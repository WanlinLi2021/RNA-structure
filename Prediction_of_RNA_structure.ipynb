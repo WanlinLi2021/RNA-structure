{
  "cells": [
    {
      "cell_type": "code",
      "execution_count": null,
      "id": "center-robinson",
      "metadata": {
        "id": "center-robinson"
      },
      "outputs": [],
      "source": [
        "from subprocess import run"
      ]
    },
    {
      "cell_type": "markdown",
      "id": "daily-currency",
      "metadata": {
        "id": "daily-currency"
      },
      "source": [
        "1. [10pts] Écrire une fonction ss2tuples(structure) qui prend en entrée une structure secondaire et retourne la liste des positions des paires de bases (la première position d’une séquence est 0)."
      ]
    },
    {
      "cell_type": "code",
      "execution_count": null,
      "id": "minus-parameter",
      "metadata": {
        "id": "minus-parameter"
      },
      "outputs": [],
      "source": [
        "sequence = 'CGAUGCGCAUGCCGAUGCAU'"
      ]
    },
    {
      "cell_type": "code",
      "execution_count": null,
      "id": "economic-trout",
      "metadata": {
        "id": "economic-trout"
      },
      "outputs": [],
      "source": [
        "output = run(['RNAfold'], input=sequence, capture_output=True, text=True)"
      ]
    },
    {
      "cell_type": "code",
      "execution_count": null,
      "id": "olive-tennessee",
      "metadata": {
        "id": "olive-tennessee",
        "outputId": "a1aa93d2-310f-4936-a0ce-9a4e4716d9c1"
      },
      "outputs": [
        {
          "name": "stdout",
          "output_type": "stream",
          "text": [
            "CGAUGCGCAUGCCGAUGCAU\n",
            "......((((....)))).. ( -4.00)\n",
            "\n"
          ]
        }
      ],
      "source": [
        "print(output.stdout)"
      ]
    },
    {
      "cell_type": "code",
      "execution_count": null,
      "id": "atlantic-static",
      "metadata": {
        "id": "atlantic-static",
        "outputId": "b5c45b68-4bf8-49f9-9da6-d3626f439747"
      },
      "outputs": [
        {
          "data": {
            "text/plain": [
              "['......((((....))))..', '(', '-4.00)']"
            ]
          },
          "execution_count": 5,
          "metadata": {},
          "output_type": "execute_result"
        }
      ],
      "source": [
        "output.stdout.split(\"\\n\")[1].split(\" \")"
      ]
    },
    {
      "cell_type": "code",
      "execution_count": null,
      "id": "abstract-stanley",
      "metadata": {
        "id": "abstract-stanley",
        "outputId": "86dad589-e599-45fb-8c10-62f1b969d731"
      },
      "outputs": [
        {
          "data": {
            "text/plain": [
              "'......((((....))))..'"
            ]
          },
          "execution_count": 6,
          "metadata": {},
          "output_type": "execute_result"
        }
      ],
      "source": [
        "structure = output.stdout.split(\"\\n\")[1].split(\" \")[0]\n",
        "structure"
      ]
    },
    {
      "cell_type": "code",
      "execution_count": null,
      "id": "functioning-serbia",
      "metadata": {
        "id": "functioning-serbia",
        "outputId": "1e403047-9172-4882-f6f1-6e2e34caa94f"
      },
      "outputs": [
        {
          "data": {
            "text/plain": [
              "[6, 7, 8, 9]"
            ]
          },
          "execution_count": 7,
          "metadata": {},
          "output_type": "execute_result"
        }
      ],
      "source": [
        "indices_left = [i for i, x in enumerate(structure) if x == \"(\"]\n",
        "indices_left"
      ]
    },
    {
      "cell_type": "code",
      "execution_count": null,
      "id": "related-efficiency",
      "metadata": {
        "id": "related-efficiency",
        "outputId": "a7787b3f-3396-4789-eced-60f01bb414a3"
      },
      "outputs": [
        {
          "data": {
            "text/plain": [
              "[14, 15, 16, 17]"
            ]
          },
          "execution_count": 8,
          "metadata": {},
          "output_type": "execute_result"
        }
      ],
      "source": [
        "indices_right = [i for i, x in enumerate(structure) if x == \")\"]\n",
        "indices_right"
      ]
    },
    {
      "cell_type": "code",
      "execution_count": null,
      "id": "afraid-frequency",
      "metadata": {
        "id": "afraid-frequency"
      },
      "outputs": [],
      "source": [
        "def ss2tuples(structure):\n",
        "    position_pairs = []\n",
        "    # chercher tous les \"(\"\n",
        "    indices_left = [i for i, x in enumerate(structure) if x == \"(\"]\n",
        "    # chercher tous les \")\"\n",
        "    indices_right = [i for i, x in enumerate(structure) if x == \")\"]\n",
        "    # faire une validation \n",
        "    if len(indices_left) != len(indices_right):\n",
        "        print(\"Cette structure n'est pas valide !\")\n",
        "        \n",
        "    for j in range(len(indices_left)):\n",
        "        #il faut inverser la liste de \"indices_right\"\n",
        "        position_pairs.append((indices_left[j],indices_right[::-1][j]))\n",
        "        \n",
        "    return position_pairs\n",
        "    "
      ]
    },
    {
      "cell_type": "code",
      "execution_count": null,
      "id": "sudden-society",
      "metadata": {
        "id": "sudden-society",
        "outputId": "28e5df2b-4530-4d49-83f7-cc0b75998c66"
      },
      "outputs": [
        {
          "data": {
            "text/plain": [
              "[(0, 13), (1, 12), (2, 8), (3, 7)]"
            ]
          },
          "execution_count": 3,
          "metadata": {},
          "output_type": "execute_result"
        }
      ],
      "source": [
        "ss2tuples('((((...))...))')"
      ]
    },
    {
      "cell_type": "markdown",
      "id": "dried-collectible",
      "metadata": {
        "id": "dried-collectible"
      },
      "source": [
        "2. [20pts] Écrire une fonction rna_distance(structure_1, structure_2)qui prend en entrée deux structures secondaires de même tailles, et retourne le nombre de paires de bases qu’il faut enlever puis rajouter pour passerd’une structure à l’autre. Ne pas utiliser d’autres programmes calculant déjà ce résultat (e.g. RNAdistance)"
      ]
    },
    {
      "cell_type": "code",
      "execution_count": null,
      "id": "ruled-amount",
      "metadata": {
        "id": "ruled-amount"
      },
      "outputs": [],
      "source": [
        "structure_1 = \"((((...))...))\"\n",
        "structure_2 = \"((..........))\"\n",
        "structure_3 = \"((((......))))\""
      ]
    },
    {
      "cell_type": "code",
      "execution_count": null,
      "id": "technological-breath",
      "metadata": {
        "id": "technological-breath",
        "outputId": "10176453-80c7-4288-f9f9-d658c815595b"
      },
      "outputs": [
        {
          "data": {
            "text/plain": [
              "[(0, 13), (1, 12), (2, 8), (3, 7)]"
            ]
          },
          "execution_count": 32,
          "metadata": {},
          "output_type": "execute_result"
        }
      ],
      "source": [
        "a = ss2tuples(structure_1)\n",
        "a"
      ]
    },
    {
      "cell_type": "code",
      "execution_count": null,
      "id": "configured-membership",
      "metadata": {
        "id": "configured-membership",
        "outputId": "7ed1161f-f29d-4630-c841-bc93cf8a2c60"
      },
      "outputs": [
        {
          "data": {
            "text/plain": [
              "[(0, 13), (1, 12)]"
            ]
          },
          "execution_count": 33,
          "metadata": {},
          "output_type": "execute_result"
        }
      ],
      "source": [
        "b = ss2tuples(structure_2)\n",
        "b"
      ]
    },
    {
      "cell_type": "code",
      "execution_count": null,
      "id": "assumed-constraint",
      "metadata": {
        "id": "assumed-constraint",
        "outputId": "fe47d1a7-2e7a-4ac4-e47f-94ae3a0552d1"
      },
      "outputs": [
        {
          "data": {
            "text/plain": [
              "[(0, 13), (1, 12), (2, 11), (3, 10)]"
            ]
          },
          "execution_count": 34,
          "metadata": {},
          "output_type": "execute_result"
        }
      ],
      "source": [
        "c = ss2tuples(structure_3)\n",
        "c"
      ]
    },
    {
      "cell_type": "code",
      "execution_count": null,
      "id": "revised-austin",
      "metadata": {
        "id": "revised-austin",
        "outputId": "db514730-5f67-45bc-d321-bea208c937c1"
      },
      "outputs": [
        {
          "name": "stdout",
          "output_type": "stream",
          "text": [
            "4\n"
          ]
        }
      ],
      "source": [
        "n = 0 \n",
        "if len(a) == len(c):\n",
        "    for i in range(len(a)):\n",
        "        if a[i] not in c[i]:\n",
        "            n += 2\n",
        "print(n)"
      ]
    },
    {
      "cell_type": "code",
      "execution_count": null,
      "id": "invisible-palestinian",
      "metadata": {
        "id": "invisible-palestinian",
        "outputId": "e15e3a0a-6897-436b-832c-5dfe1a5e131c"
      },
      "outputs": [
        {
          "name": "stdout",
          "output_type": "stream",
          "text": [
            "2\n"
          ]
        }
      ],
      "source": [
        "n = 0 \n",
        "if len(a) > len(b):\n",
        "    n += abs(len(a)-len(b))\n",
        "    for i in range(len(b)):\n",
        "        if a[i] not in c[i]:\n",
        "            n += 2\n",
        "print(n)"
      ]
    },
    {
      "cell_type": "code",
      "execution_count": null,
      "id": "responsible-nation",
      "metadata": {
        "id": "responsible-nation"
      },
      "outputs": [],
      "source": [
        "def rna_distance(structure_1, structure_2):\n",
        "    n = 0\n",
        "    # comparer les positions des paires \n",
        "    a = ss2tuples(structure_1)\n",
        "    b = ss2tuples(structure_2)\n",
        "    if len(a) == len(b):\n",
        "        for i in range(len(a)):\n",
        "            if a[i] not in b:\n",
        "                n += 2     # quand une position des paires ne marche pas, la distance équal 2\n",
        "    \n",
        "    else:\n",
        "        # quand il manque une position des paires, la distance équal 1\n",
        "        n += abs(len(a)-len(b))\n",
        "        if len(a) < len(b):\n",
        "            for i in range(len(a)):\n",
        "                if a[i] not in b:\n",
        "                    n += 2\n",
        "        if len(a) > len(b):\n",
        "            for i in range(len(b)):\n",
        "                if b[i] not in a:\n",
        "                    n += 2\n",
        "                    \n",
        "                    \n",
        "    return n\n",
        "    \n",
        "    "
      ]
    },
    {
      "cell_type": "code",
      "execution_count": null,
      "id": "stuck-chester",
      "metadata": {
        "id": "stuck-chester"
      },
      "outputs": [],
      "source": [
        "output = run(['RNAdistance','-DP'], input= str(structure_1)+ \"\\n\" + str(structure_2), capture_output=True, text=True)"
      ]
    },
    {
      "cell_type": "code",
      "execution_count": null,
      "id": "moving-guide",
      "metadata": {
        "id": "moving-guide",
        "outputId": "89175411-45d2-40a5-9d5b-71c55883acae"
      },
      "outputs": [
        {
          "name": "stdout",
          "output_type": "stream",
          "text": [
            "P: 2  \n",
            "\n"
          ]
        }
      ],
      "source": [
        "print(output.stdout)"
      ]
    },
    {
      "cell_type": "code",
      "execution_count": null,
      "id": "loved-radar",
      "metadata": {
        "id": "loved-radar",
        "outputId": "322a9968-1103-4e86-cd5c-fd6705b46126"
      },
      "outputs": [
        {
          "data": {
            "text/plain": [
              "'2'"
            ]
          },
          "execution_count": 14,
          "metadata": {},
          "output_type": "execute_result"
        }
      ],
      "source": [
        "output.stdout.split(\" \")[1]"
      ]
    },
    {
      "cell_type": "code",
      "execution_count": null,
      "id": "national-compilation",
      "metadata": {
        "id": "national-compilation"
      },
      "outputs": [],
      "source": [
        "def rna_distance_test(structure_1, structure_2):\n",
        "    # RNAdistance 2.4.16\n",
        "    output = run(['RNAdistance','-DP'], \n",
        "                 input= str(structure_1)+ \"\\n\" + str(structure_2), \n",
        "                 capture_output=True, text=True)\n",
        "    return output.stdout.split(\" \")[1]    # sortie seulement le numero\n",
        "    "
      ]
    },
    {
      "cell_type": "code",
      "execution_count": null,
      "id": "compressed-creation",
      "metadata": {
        "id": "compressed-creation",
        "outputId": "7b2c64a0-1003-4e2f-db69-35a1e59bb971"
      },
      "outputs": [
        {
          "data": {
            "text/plain": [
              "2"
            ]
          },
          "execution_count": 180,
          "metadata": {},
          "output_type": "execute_result"
        }
      ],
      "source": [
        "rna_distance('((((...))...))', '((..........))')"
      ]
    },
    {
      "cell_type": "code",
      "execution_count": null,
      "id": "assisted-mattress",
      "metadata": {
        "id": "assisted-mattress",
        "outputId": "2b44684e-22d4-4bac-88be-9f993c941cf9"
      },
      "outputs": [
        {
          "data": {
            "text/plain": [
              "4"
            ]
          },
          "execution_count": 181,
          "metadata": {},
          "output_type": "execute_result"
        }
      ],
      "source": [
        "rna_distance('((((...))...))', '((((......))))')"
      ]
    },
    {
      "cell_type": "code",
      "execution_count": null,
      "id": "common-dayton",
      "metadata": {
        "id": "common-dayton"
      },
      "outputs": [],
      "source": [
        "x = \"((((...)))).....\"\n",
        "y = \".(...(((...))).)\""
      ]
    },
    {
      "cell_type": "code",
      "execution_count": null,
      "id": "accessible-movement",
      "metadata": {
        "id": "accessible-movement",
        "outputId": "9bc7185d-f080-49fb-cfab-c3b40f5f478b"
      },
      "outputs": [
        {
          "data": {
            "text/plain": [
              "[(0, 10), (1, 9), (2, 8), (3, 7)]"
            ]
          },
          "execution_count": 193,
          "metadata": {},
          "output_type": "execute_result"
        }
      ],
      "source": [
        "ss2tuples(x)"
      ]
    },
    {
      "cell_type": "code",
      "execution_count": null,
      "id": "religious-spiritual",
      "metadata": {
        "id": "religious-spiritual",
        "outputId": "9e522c80-9df7-4ec8-f24d-2b9ec54f8c1b"
      },
      "outputs": [
        {
          "data": {
            "text/plain": [
              "[(1, 15), (5, 13), (6, 12), (7, 11)]"
            ]
          },
          "execution_count": 194,
          "metadata": {},
          "output_type": "execute_result"
        }
      ],
      "source": [
        "ss2tuples(y)"
      ]
    },
    {
      "cell_type": "code",
      "execution_count": null,
      "id": "straight-personality",
      "metadata": {
        "id": "straight-personality",
        "outputId": "5a4dbf41-887e-4746-ce59-3bd84abdebd2"
      },
      "outputs": [
        {
          "data": {
            "text/plain": [
              "8"
            ]
          },
          "execution_count": 195,
          "metadata": {},
          "output_type": "execute_result"
        }
      ],
      "source": [
        "rna_distance(x,y)"
      ]
    },
    {
      "cell_type": "code",
      "execution_count": null,
      "id": "proper-vitamin",
      "metadata": {
        "id": "proper-vitamin",
        "outputId": "3e57ba53-c4e7-4545-964f-b5d806667f9b"
      },
      "outputs": [
        {
          "data": {
            "text/plain": [
              "'8'"
            ]
          },
          "execution_count": 196,
          "metadata": {},
          "output_type": "execute_result"
        }
      ],
      "source": [
        "rna_distance_test(x,y)"
      ]
    },
    {
      "cell_type": "markdown",
      "id": "israeli-carter",
      "metadata": {
        "id": "israeli-carter"
      },
      "source": [
        "3. [60pts] Télécharger les alignements seed des familles RF00001 et RF00174 de RFAM en format Stockholm."
      ]
    },
    {
      "cell_type": "markdown",
      "id": "burning-maria",
      "metadata": {
        "id": "burning-maria"
      },
      "source": [
        "(a) [5pts] Pour chaque famille, quelle est la structure secondaire consensus?"
      ]
    },
    {
      "cell_type": "code",
      "execution_count": null,
      "id": "competitive-province",
      "metadata": {
        "id": "competitive-province"
      },
      "outputs": [],
      "source": []
    },
    {
      "cell_type": "markdown",
      "id": "insured-school",
      "metadata": {
        "id": "insured-school"
      },
      "source": [
        "    "
      ]
    },
    {
      "cell_type": "markdown",
      "id": "working-guard",
      "metadata": {
        "id": "working-guard"
      },
      "source": [
        "(b) [25pts] Pour chaque séquence sans gaps, calculer avec RNAfold sa structure secondaire la plus stable (MFE) ainsi que son énergie. \n",
        "Produire une figure montrant la distribution de ces énergies, par famille. Indice: Bio.AlignIO"
      ]
    },
    {
      "cell_type": "code",
      "execution_count": null,
      "id": "twelve-ethnic",
      "metadata": {
        "id": "twelve-ethnic"
      },
      "outputs": [],
      "source": [
        "from Bio import AlignIO"
      ]
    },
    {
      "cell_type": "code",
      "execution_count": null,
      "id": "posted-minnesota",
      "metadata": {
        "id": "posted-minnesota"
      },
      "outputs": [],
      "source": [
        "align = AlignIO.read(\"RF00001.stockholm.txt\", \"stockholm\")"
      ]
    },
    {
      "cell_type": "code",
      "execution_count": null,
      "id": "arabic-sensitivity",
      "metadata": {
        "id": "arabic-sensitivity",
        "outputId": "a6a382c7-bdf1-4c3e-d4ca-6720898daabe"
      },
      "outputs": [
        {
          "data": {
            "text/plain": [
              "'X01556.1/3-118'"
            ]
          },
          "execution_count": 91,
          "metadata": {},
          "output_type": "execute_result"
        }
      ],
      "source": [
        "align[0].id"
      ]
    },
    {
      "cell_type": "code",
      "execution_count": null,
      "id": "corresponding-samba",
      "metadata": {
        "id": "corresponding-samba",
        "outputId": "6d0e50fb-1c1d-42bf-e7d4-9c5f8b67b258"
      },
      "outputs": [
        {
          "data": {
            "text/plain": [
              "'--CUUGAC-GA-U-C-AU-AGA----GC-G-U-U-G---GA----------A-CC-A----------C--CUG----A-UC----CCUUCC------CGA-ACUCA-GA-AGUGAA-A-----------------CGACGCA-U-C--G---CC--GAUG----GUAGUGUG----GGGUUUC-C-CCAUG-UGA---G---AGUA----GG-U-CA-UC--G-UCAAGC'"
            ]
          },
          "execution_count": 92,
          "metadata": {},
          "output_type": "execute_result"
        }
      ],
      "source": [
        "str(align[0].seq)"
      ]
    },
    {
      "cell_type": "code",
      "execution_count": null,
      "id": "median-marine",
      "metadata": {
        "id": "median-marine",
        "outputId": "61c9494f-6b2e-4dfa-c37e-def40d449cba"
      },
      "outputs": [
        {
          "data": {
            "text/plain": [
              "'CUUGACGAUCAUAGAGCGUUGGAACCACCUGAUCCCUUCCCGAACUCAGAAGUGAAACGACGCAUCGCCGAUGGUAGUGUGGGGUUUCCCCAUGUGAGAGUAGGUCAUCGUCAAGC'"
            ]
          },
          "execution_count": 148,
          "metadata": {},
          "output_type": "execute_result"
        }
      ],
      "source": [
        "seq = str(align[0].seq).replace(\"-\",\"\")\n",
        "seq"
      ]
    },
    {
      "cell_type": "code",
      "execution_count": null,
      "id": "durable-interest",
      "metadata": {
        "id": "durable-interest",
        "outputId": "2b25065a-e323-4da8-c691-a4bf80857fb7"
      },
      "outputs": [
        {
          "data": {
            "text/plain": [
              "712"
            ]
          },
          "execution_count": 94,
          "metadata": {},
          "output_type": "execute_result"
        }
      ],
      "source": [
        "len(align)"
      ]
    },
    {
      "cell_type": "code",
      "execution_count": null,
      "id": "atomic-examination",
      "metadata": {
        "id": "atomic-examination"
      },
      "outputs": [],
      "source": [
        "output = run(['RNAfold'], input=seq, capture_output=True, text=True)"
      ]
    },
    {
      "cell_type": "code",
      "execution_count": null,
      "id": "tested-forty",
      "metadata": {
        "id": "tested-forty",
        "outputId": "f1aadd13-ae1d-4956-eff6-22552c7c6c0e"
      },
      "outputs": [
        {
          "name": "stdout",
          "output_type": "stream",
          "text": [
            "CUUGACGAUCAUAGAGCGUUGGAACCACCUGAUCCCUUCCCGAACUCAGAAGUGAAACGACGCAUCGCCGAUGGUAGUGUGGGGUUUCCCCAUGUGAGAGUAGGUCAUCGUCAAGC\n",
            "(((((((((....((((((((....(((((((((.......))..))))..)))...)))))).))(((.........((((((...)))))).........))).))))))))). (-33.50)\n",
            "\n"
          ]
        }
      ],
      "source": [
        "print(output.stdout)"
      ]
    },
    {
      "cell_type": "code",
      "execution_count": null,
      "id": "current-resolution",
      "metadata": {
        "id": "current-resolution",
        "outputId": "0807fdf9-72d4-4eaa-fba3-5b2c1d8b2913"
      },
      "outputs": [
        {
          "data": {
            "text/plain": [
              "'(((((((((....((((((((....(((((((((.......))..))))..)))...)))))).))(((.........((((((...)))))).........))).))))))))).'"
            ]
          },
          "execution_count": 159,
          "metadata": {},
          "output_type": "execute_result"
        }
      ],
      "source": [
        "output.stdout.split(\"\\n\")[1].split(\" \")[0]"
      ]
    },
    {
      "cell_type": "code",
      "execution_count": null,
      "id": "independent-institute",
      "metadata": {
        "id": "independent-institute",
        "outputId": "449747e8-81fc-4caa-dca6-2a56a24b0b2c"
      },
      "outputs": [
        {
          "data": {
            "text/plain": [
              "'(-33.50)'"
            ]
          },
          "execution_count": 10,
          "metadata": {},
          "output_type": "execute_result"
        }
      ],
      "source": [
        "energie_string = output.stdout.split(\"\\n\")[1].split(\" \")[1]\n",
        "energie_string"
      ]
    },
    {
      "cell_type": "code",
      "execution_count": null,
      "id": "noted-engine",
      "metadata": {
        "id": "noted-engine",
        "outputId": "8fb73407-9492-457a-b984-0db18633143a"
      },
      "outputs": [
        {
          "data": {
            "text/plain": [
              "-33.5"
            ]
          },
          "execution_count": 22,
          "metadata": {},
          "output_type": "execute_result"
        }
      ],
      "source": [
        "energie = float(energie_string.replace('(','').replace(')',''))\n",
        "energie"
      ]
    },
    {
      "cell_type": "code",
      "execution_count": null,
      "id": "equal-conflict",
      "metadata": {
        "id": "equal-conflict"
      },
      "outputs": [],
      "source": []
    },
    {
      "cell_type": "code",
      "execution_count": null,
      "id": "blessed-blair",
      "metadata": {
        "id": "blessed-blair"
      },
      "outputs": [],
      "source": [
        "import pandas as pd"
      ]
    },
    {
      "cell_type": "code",
      "execution_count": null,
      "id": "understood-aggregate",
      "metadata": {
        "id": "understood-aggregate",
        "outputId": "c1ad8841-4747-49fe-8c4e-22ed08f6a68b"
      },
      "outputs": [
        {
          "data": {
            "text/html": [
              "<div>\n",
              "<style scoped>\n",
              "    .dataframe tbody tr th:only-of-type {\n",
              "        vertical-align: middle;\n",
              "    }\n",
              "\n",
              "    .dataframe tbody tr th {\n",
              "        vertical-align: top;\n",
              "    }\n",
              "\n",
              "    .dataframe thead th {\n",
              "        text-align: right;\n",
              "    }\n",
              "</style>\n",
              "<table border=\"1\" class=\"dataframe\">\n",
              "  <thead>\n",
              "    <tr style=\"text-align: right;\">\n",
              "      <th></th>\n",
              "      <th>id</th>\n",
              "      <th>structure secondaire</th>\n",
              "      <th>energie</th>\n",
              "    </tr>\n",
              "  </thead>\n",
              "  <tbody>\n",
              "  </tbody>\n",
              "</table>\n",
              "</div>"
            ],
            "text/plain": [
              "Empty DataFrame\n",
              "Columns: [id, structure secondaire, energie]\n",
              "Index: []"
            ]
          },
          "execution_count": 14,
          "metadata": {},
          "output_type": "execute_result"
        }
      ],
      "source": [
        "df_ss = pd.DataFrame({\"id\":[],\n",
        "                     \"structure secondaire\":[],\n",
        "                     \"energie\":[]})\n",
        "df_ss"
      ]
    },
    {
      "cell_type": "code",
      "execution_count": null,
      "id": "ignored-pressing",
      "metadata": {
        "id": "ignored-pressing"
      },
      "outputs": [],
      "source": [
        "def energieChaqueFamille(filename):\n",
        "    # on va mettre des resultats dans un DataFrame\n",
        "    df_ss = pd.DataFrame({\"id\":[],\n",
        "                     \"structure secondaire\":[],\n",
        "                     \"energie\":[]})\n",
        "    align = AlignIO.read(filename, \"stockholm\")\n",
        "    for i in range(len(align)):\n",
        "        #calculer chaque sequence\n",
        "        id = align[i].id\n",
        "        seq = str(align[i].seq).replace(\"-\",\"\")\n",
        "        # utiliser RNAfold\n",
        "        output = run(['RNAfold'], input=seq, capture_output=True, text=True)\n",
        "        structure2 = output.stdout.split(\"\\n\")[1].split(\" \")[0]\n",
        "        \n",
        "        energie_string = output.stdout.split(\"\\n\")[1].split(\" \")[1]\n",
        "        energie = float(energie_string.replace('(','').replace(')',''))\n",
        "       \n",
        "        new_row = {\"id\": id,\n",
        "                     \"structure secondaire\": structure2,\n",
        "                     \"energie\": energie}\n",
        "         # ajouter nouvelle ligne dans le DataFrame\n",
        "        df_ss = df_ss.append(new_row, ignore_index=True)\n",
        "        \n",
        "    return df_ss\n",
        "    \n",
        "    "
      ]
    },
    {
      "cell_type": "code",
      "execution_count": null,
      "id": "continental-bicycle",
      "metadata": {
        "id": "continental-bicycle",
        "outputId": "a1853c58-b20d-48d9-9581-015f2d3f92cd"
      },
      "outputs": [
        {
          "data": {
            "text/html": [
              "<div>\n",
              "<style scoped>\n",
              "    .dataframe tbody tr th:only-of-type {\n",
              "        vertical-align: middle;\n",
              "    }\n",
              "\n",
              "    .dataframe tbody tr th {\n",
              "        vertical-align: top;\n",
              "    }\n",
              "\n",
              "    .dataframe thead th {\n",
              "        text-align: right;\n",
              "    }\n",
              "</style>\n",
              "<table border=\"1\" class=\"dataframe\">\n",
              "  <thead>\n",
              "    <tr style=\"text-align: right;\">\n",
              "      <th></th>\n",
              "      <th>id</th>\n",
              "      <th>structure secondaire</th>\n",
              "      <th>energie</th>\n",
              "    </tr>\n",
              "  </thead>\n",
              "  <tbody>\n",
              "    <tr>\n",
              "      <th>0</th>\n",
              "      <td>X01556.1/3-118</td>\n",
              "      <td>(((((((((....((((((((....(((((((((.......))..)...</td>\n",
              "      <td>-33.5</td>\n",
              "    </tr>\n",
              "    <tr>\n",
              "      <th>1</th>\n",
              "      <td>X55260.1/3-119</td>\n",
              "      <td>..(((((((......((.(((......)))..)).....(((.......</td>\n",
              "      <td>-42.4</td>\n",
              "    </tr>\n",
              "    <tr>\n",
              "      <th>2</th>\n",
              "      <td>M16174.1/3-119</td>\n",
              "      <td>..((((((((((.(.(((.(((.....))).)))).)))(((.......</td>\n",
              "      <td>-47.0</td>\n",
              "    </tr>\n",
              "    <tr>\n",
              "      <th>3</th>\n",
              "      <td>X55267.1/3-119</td>\n",
              "      <td>..(((((((....((((((((.....((((((.............)...</td>\n",
              "      <td>-43.2</td>\n",
              "    </tr>\n",
              "    <tr>\n",
              "      <th>4</th>\n",
              "      <td>M16172.1/3-119</td>\n",
              "      <td>..(((((((.........(((......))).((((..(((((.......</td>\n",
              "      <td>-42.3</td>\n",
              "    </tr>\n",
              "    <tr>\n",
              "      <th>...</th>\n",
              "      <td>...</td>\n",
              "      <td>...</td>\n",
              "      <td>...</td>\n",
              "    </tr>\n",
              "    <tr>\n",
              "      <th>707</th>\n",
              "      <td>AJ318074.1/3315-3429</td>\n",
              "      <td>(((((((((...(((((((((..(((.(((((............))...</td>\n",
              "      <td>-42.6</td>\n",
              "    </tr>\n",
              "    <tr>\n",
              "      <th>708</th>\n",
              "      <td>AY544572.1/31-151</td>\n",
              "      <td>....((((....))))(((((...(((((((((.......((.......</td>\n",
              "      <td>-33.2</td>\n",
              "    </tr>\n",
              "    <tr>\n",
              "      <th>709</th>\n",
              "      <td>EF175853.1/1-105</td>\n",
              "      <td>.(((((....)))))..........((((.(..(((..(..(((((...</td>\n",
              "      <td>-21.9</td>\n",
              "    </tr>\n",
              "    <tr>\n",
              "      <th>710</th>\n",
              "      <td>DQ867109.1/483-591</td>\n",
              "      <td>(((((.(((((((....))))...((((.((((.......)))).)...</td>\n",
              "      <td>-28.8</td>\n",
              "    </tr>\n",
              "    <tr>\n",
              "      <th>711</th>\n",
              "      <td>AF516462.1/347-450</td>\n",
              "      <td>((((((((.(((..........(((((((.(((...))).).))))...</td>\n",
              "      <td>-28.5</td>\n",
              "    </tr>\n",
              "  </tbody>\n",
              "</table>\n",
              "<p>712 rows × 3 columns</p>\n",
              "</div>"
            ],
            "text/plain": [
              "                       id                               structure secondaire  \\\n",
              "0          X01556.1/3-118  (((((((((....((((((((....(((((((((.......))..)...   \n",
              "1          X55260.1/3-119  ..(((((((......((.(((......)))..)).....(((.......   \n",
              "2          M16174.1/3-119  ..((((((((((.(.(((.(((.....))).)))).)))(((.......   \n",
              "3          X55267.1/3-119  ..(((((((....((((((((.....((((((.............)...   \n",
              "4          M16172.1/3-119  ..(((((((.........(((......))).((((..(((((.......   \n",
              "..                    ...                                                ...   \n",
              "707  AJ318074.1/3315-3429  (((((((((...(((((((((..(((.(((((............))...   \n",
              "708     AY544572.1/31-151  ....((((....))))(((((...(((((((((.......((.......   \n",
              "709      EF175853.1/1-105  .(((((....)))))..........((((.(..(((..(..(((((...   \n",
              "710    DQ867109.1/483-591  (((((.(((((((....))))...((((.((((.......)))).)...   \n",
              "711    AF516462.1/347-450  ((((((((.(((..........(((((((.(((...))).).))))...   \n",
              "\n",
              "     energie  \n",
              "0      -33.5  \n",
              "1      -42.4  \n",
              "2      -47.0  \n",
              "3      -43.2  \n",
              "4      -42.3  \n",
              "..       ...  \n",
              "707    -42.6  \n",
              "708    -33.2  \n",
              "709    -21.9  \n",
              "710    -28.8  \n",
              "711    -28.5  \n",
              "\n",
              "[712 rows x 3 columns]"
            ]
          },
          "execution_count": 8,
          "metadata": {},
          "output_type": "execute_result"
        }
      ],
      "source": [
        "df_RF0001 = energieChaqueFamille(\"RF00001.stockholm.txt\")\n",
        "df_RF0001"
      ]
    },
    {
      "cell_type": "code",
      "execution_count": null,
      "id": "comparable-dimension",
      "metadata": {
        "id": "comparable-dimension"
      },
      "outputs": [],
      "source": [
        "df_RF0001.to_csv('df_RF00001.csv')"
      ]
    },
    {
      "cell_type": "code",
      "execution_count": null,
      "id": "northern-appearance",
      "metadata": {
        "id": "northern-appearance",
        "outputId": "ac378566-9ae5-46ea-b705-0b15d80031a0"
      },
      "outputs": [
        {
          "data": {
            "text/html": [
              "<div>\n",
              "<style scoped>\n",
              "    .dataframe tbody tr th:only-of-type {\n",
              "        vertical-align: middle;\n",
              "    }\n",
              "\n",
              "    .dataframe tbody tr th {\n",
              "        vertical-align: top;\n",
              "    }\n",
              "\n",
              "    .dataframe thead th {\n",
              "        text-align: right;\n",
              "    }\n",
              "</style>\n",
              "<table border=\"1\" class=\"dataframe\">\n",
              "  <thead>\n",
              "    <tr style=\"text-align: right;\">\n",
              "      <th></th>\n",
              "      <th>id</th>\n",
              "      <th>structure secondaire</th>\n",
              "      <th>energie</th>\n",
              "    </tr>\n",
              "  </thead>\n",
              "  <tbody>\n",
              "    <tr>\n",
              "      <th>0</th>\n",
              "      <td>AF010496.1/39869-39652</td>\n",
              "      <td>((((.((((((((....((((((((((((..((...))..))))))...</td>\n",
              "      <td>-90.1</td>\n",
              "    </tr>\n",
              "    <tr>\n",
              "      <th>1</th>\n",
              "      <td>AF010496.1/105318-105541</td>\n",
              "      <td>.......((((((..((.((((((((((....))))))...........</td>\n",
              "      <td>-97.2</td>\n",
              "    </tr>\n",
              "    <tr>\n",
              "      <th>2</th>\n",
              "      <td>AF010496.1/116971-117194</td>\n",
              "      <td>((.((.(((...(((((((((((((........))))......(((...</td>\n",
              "      <td>-88.2</td>\n",
              "    </tr>\n",
              "    <tr>\n",
              "      <th>3</th>\n",
              "      <td>AF193754.1/4343-4142</td>\n",
              "      <td>.((((((.(((((((....))))))).))))))................</td>\n",
              "      <td>-58.3</td>\n",
              "    </tr>\n",
              "    <tr>\n",
              "      <th>4</th>\n",
              "      <td>AF193754.1/24966-24788</td>\n",
              "      <td>((((......((((((((((((((((((....)))))).....((....</td>\n",
              "      <td>-61.2</td>\n",
              "    </tr>\n",
              "    <tr>\n",
              "      <th>...</th>\n",
              "      <td>...</td>\n",
              "      <td>...</td>\n",
              "      <td>...</td>\n",
              "    </tr>\n",
              "    <tr>\n",
              "      <th>425</th>\n",
              "      <td>CP002156.1/2306524-2306337</td>\n",
              "      <td>(((((((......)).))))).((((((....)))))).((.(((....</td>\n",
              "      <td>-66.8</td>\n",
              "    </tr>\n",
              "    <tr>\n",
              "      <th>426</th>\n",
              "      <td>AALC02000021.1/24189-24004</td>\n",
              "      <td>((((((((..(((....(((((..(((((((......))))))).....</td>\n",
              "      <td>-63.1</td>\n",
              "    </tr>\n",
              "    <tr>\n",
              "      <th>427</th>\n",
              "      <td>CP003056.1/1126059-1125863</td>\n",
              "      <td>..((((....((((((((((((((........)))......(((.....</td>\n",
              "      <td>-65.8</td>\n",
              "    </tr>\n",
              "    <tr>\n",
              "      <th>428</th>\n",
              "      <td>AALE02000017.1/13768-13947</td>\n",
              "      <td>..............(((..(((((((......)))))))......(...</td>\n",
              "      <td>-48.0</td>\n",
              "    </tr>\n",
              "    <tr>\n",
              "      <th>429</th>\n",
              "      <td>AALD02000002.1/89872-89688</td>\n",
              "      <td>........((((((((..((((..(((((((......))))))).....</td>\n",
              "      <td>-60.0</td>\n",
              "    </tr>\n",
              "  </tbody>\n",
              "</table>\n",
              "<p>430 rows × 3 columns</p>\n",
              "</div>"
            ],
            "text/plain": [
              "                             id  \\\n",
              "0        AF010496.1/39869-39652   \n",
              "1      AF010496.1/105318-105541   \n",
              "2      AF010496.1/116971-117194   \n",
              "3          AF193754.1/4343-4142   \n",
              "4        AF193754.1/24966-24788   \n",
              "..                          ...   \n",
              "425  CP002156.1/2306524-2306337   \n",
              "426  AALC02000021.1/24189-24004   \n",
              "427  CP003056.1/1126059-1125863   \n",
              "428  AALE02000017.1/13768-13947   \n",
              "429  AALD02000002.1/89872-89688   \n",
              "\n",
              "                                  structure secondaire  energie  \n",
              "0    ((((.((((((((....((((((((((((..((...))..))))))...    -90.1  \n",
              "1    .......((((((..((.((((((((((....))))))...........    -97.2  \n",
              "2    ((.((.(((...(((((((((((((........))))......(((...    -88.2  \n",
              "3    .((((((.(((((((....))))))).))))))................    -58.3  \n",
              "4    ((((......((((((((((((((((((....)))))).....((....    -61.2  \n",
              "..                                                 ...      ...  \n",
              "425  (((((((......)).))))).((((((....)))))).((.(((....    -66.8  \n",
              "426  ((((((((..(((....(((((..(((((((......))))))).....    -63.1  \n",
              "427  ..((((....((((((((((((((........)))......(((.....    -65.8  \n",
              "428  ..............(((..(((((((......)))))))......(...    -48.0  \n",
              "429  ........((((((((..((((..(((((((......))))))).....    -60.0  \n",
              "\n",
              "[430 rows x 3 columns]"
            ]
          },
          "execution_count": 10,
          "metadata": {},
          "output_type": "execute_result"
        }
      ],
      "source": [
        "df_RF00174 = energieChaqueFamille(\"RF00174.stockholm.txt\")\n",
        "df_RF00174"
      ]
    },
    {
      "cell_type": "code",
      "execution_count": null,
      "id": "prompt-devil",
      "metadata": {
        "id": "prompt-devil"
      },
      "outputs": [],
      "source": [
        "df_RF00174.to_csv('df_RF00174.csv')"
      ]
    },
    {
      "cell_type": "code",
      "execution_count": null,
      "id": "prescription-endorsement",
      "metadata": {
        "id": "prescription-endorsement",
        "outputId": "a44d31ea-8979-480b-913a-e5123c8bcb9a"
      },
      "outputs": [
        {
          "data": {
            "text/plain": [
              "<Figure size 432x288 with 0 Axes>"
            ]
          },
          "metadata": {},
          "output_type": "display_data"
        },
        {
          "data": {
            "image/png": "[encoded data removed]",
            "text/plain": [
              "<Figure size 4800x1280 with 1 Axes>"
            ]
          },
          "metadata": {},
          "output_type": "display_data"
        }
      ],
      "source": [
        "# Faire la figure\n",
        "import seaborn as sns\n",
        "import matplotlib.pyplot as plt\n",
        "from matplotlib.pyplot import figure\n",
        "\n",
        "plt.figure()\n",
        "\n",
        "figure(num=None, figsize=(60, 16), dpi=80, facecolor='w', edgecolor='k')\n",
        "\n",
        "sns.histplot(data=df_RF0001, x=\"energie\", bins=50, kde=True)\n",
        "\n",
        "plt.xlabel(\"énergies\",fontsize = 50)\n",
        "plt.ylabel(\"compte\",fontsize=50)\n",
        "plt.title('La distribution des énergies (RF00001)',fontsize=50)\n",
        "plt.yticks(fontsize=40)\n",
        "plt.xticks(fontsize=40)\n",
        "\n",
        "plt.savefig('energe_RF00001')\n",
        "plt.show()\n",
        "\n"
      ]
    },
    {
      "cell_type": "code",
      "execution_count": null,
      "id": "comparative-barbados",
      "metadata": {
        "id": "comparative-barbados",
        "outputId": "c29d927b-3395-4ef6-a9da-53e68974ee9d"
      },
      "outputs": [
        {
          "data": {
            "text/plain": [
              "<Figure size 432x288 with 0 Axes>"
            ]
          },
          "metadata": {},
          "output_type": "display_data"
        },
        {
          "data": {
            "image/png": "[encoded data removed]",
            "text/plain": [
              "<Figure size 4800x1280 with 1 Axes>"
            ]
          },
          "metadata": {},
          "output_type": "display_data"
        }
      ],
      "source": [
        "# Faire la figure\n",
        "import seaborn as sns\n",
        "import matplotlib.pyplot as plt\n",
        "from matplotlib.pyplot import figure\n",
        "\n",
        "plt.figure()\n",
        "\n",
        "figure(num=None, figsize=(60, 16), dpi=80, facecolor='w', edgecolor='k')\n",
        "\n",
        "sns.histplot(data=df_RF00174, x=\"energie\", bins=50, kde=True)\n",
        "\n",
        "plt.xlabel(\"énergies\",fontsize = 50)\n",
        "plt.ylabel(\"compte\",fontsize=50)\n",
        "plt.title('La distribution des énergies (RF00174)',fontsize=50)\n",
        "plt.yticks(fontsize=40)\n",
        "plt.xticks(fontsize=40)\n",
        "\n",
        "plt.savefig('energe_RF00174')\n",
        "plt.show()"
      ]
    },
    {
      "cell_type": "code",
      "execution_count": null,
      "id": "boring-review",
      "metadata": {
        "id": "boring-review"
      },
      "outputs": [],
      "source": []
    },
    {
      "cell_type": "markdown",
      "id": "herbal-virgin",
      "metadata": {
        "id": "herbal-virgin"
      },
      "source": [
        "(c) [15pts] Écrire une fonction contract(sequence, structure) \n",
        "qui prend en entrée une séquence et une structure secondaire, les deux de même longueur. \n",
        "Elle retourne la séquence et structure secondaire en enlevant les positions qui ont des gaps dans la séquence."
      ]
    },
    {
      "cell_type": "code",
      "execution_count": null,
      "id": "english-hierarchy",
      "metadata": {
        "id": "english-hierarchy"
      },
      "outputs": [],
      "source": [
        "sequence = \"ACG--U\"\n",
        "structure = \"((..))\""
      ]
    },
    {
      "cell_type": "code",
      "execution_count": null,
      "id": "cutting-native",
      "metadata": {
        "id": "cutting-native",
        "outputId": "67dfab6c-0e54-4998-eb0a-c748ce9d824c"
      },
      "outputs": [
        {
          "data": {
            "text/plain": [
              "[0, 1]"
            ]
          },
          "execution_count": 25,
          "metadata": {},
          "output_type": "execute_result"
        }
      ],
      "source": [
        "indix_left = [i for i, x in enumerate(structure) if x == \"(\"]\n",
        "indix_left"
      ]
    },
    {
      "cell_type": "code",
      "execution_count": null,
      "id": "proud-drawing",
      "metadata": {
        "id": "proud-drawing",
        "outputId": "ee383bd6-3d08-4967-a57b-313f3750865f"
      },
      "outputs": [
        {
          "data": {
            "text/plain": [
              "[5, 4]"
            ]
          },
          "execution_count": 26,
          "metadata": {},
          "output_type": "execute_result"
        }
      ],
      "source": [
        "indix_right = [i for i, x in enumerate(structure) if x == \")\"][::-1]\n",
        "indix_right"
      ]
    },
    {
      "cell_type": "code",
      "execution_count": null,
      "id": "fluid-adventure",
      "metadata": {
        "id": "fluid-adventure",
        "outputId": "f18dab6a-6a1a-405d-ebc7-9bba48788240"
      },
      "outputs": [
        {
          "data": {
            "text/plain": [
              "[3, 4]"
            ]
          },
          "execution_count": 27,
          "metadata": {},
          "output_type": "execute_result"
        }
      ],
      "source": [
        "indix_indel = [i for i, x in enumerate(sequence) if x == \"-\"]\n",
        "indix_indel"
      ]
    },
    {
      "cell_type": "code",
      "execution_count": null,
      "id": "answering-monkey",
      "metadata": {
        "id": "answering-monkey",
        "outputId": "4fbca201-1156-4b27-f2b0-de6673944749"
      },
      "outputs": [
        {
          "data": {
            "text/plain": [
              "[(0, 5), (1, 4)]"
            ]
          },
          "execution_count": 28,
          "metadata": {},
          "output_type": "execute_result"
        }
      ],
      "source": [
        "ss2tuples(structure)"
      ]
    },
    {
      "cell_type": "code",
      "execution_count": null,
      "id": "authorized-revelation",
      "metadata": {
        "id": "authorized-revelation",
        "outputId": "f5d11d87-7d94-4184-b3b8-6a3155130f0e"
      },
      "outputs": [
        {
          "data": {
            "text/plain": [
              "1"
            ]
          },
          "execution_count": 29,
          "metadata": {},
          "output_type": "execute_result"
        }
      ],
      "source": [
        "indix_right.index(4)"
      ]
    },
    {
      "cell_type": "code",
      "execution_count": null,
      "id": "random-sociology",
      "metadata": {
        "id": "random-sociology",
        "outputId": "dd6967b6-e261-4537-fda6-6274deddf2aa"
      },
      "outputs": [
        {
          "data": {
            "text/plain": [
              "1"
            ]
          },
          "execution_count": 30,
          "metadata": {},
          "output_type": "execute_result"
        }
      ],
      "source": [
        "indix_left[1]"
      ]
    },
    {
      "cell_type": "code",
      "execution_count": null,
      "id": "civic-stephen",
      "metadata": {
        "id": "civic-stephen"
      },
      "outputs": [],
      "source": [
        "# si Indel peut construire un paire de base \"()\", \n",
        "#avant de le suprimer, il faut change son partenaire de \"(\" ou \")\" à point \".\" \n",
        "structure = list(structure)\n",
        "for m in indix_indel:\n",
        "    if m in indix_left:\n",
        "        # si \"-\" correspond à \"(\" in structure\n",
        "        structure[m] = '.'    # changer \"(\" à \".\"\n",
        "        index_m_right = indix_left.index(m)    # chercher \")\" qui correspond à \"(\". ils ont les meme index\n",
        "        structure[indix_right[index_m_right]] = '.'  # changer \")\" à \".\"\n",
        "        \n",
        "    if m in indix_right:\n",
        "        # si \"-\" correspond à \")\" in structure\n",
        "        structure[m] = '.'    # changer \")\" à \".\"\n",
        "        index_m_left = indix_right.index(m)    # chercher \"(\" qui correspond à \")\". ils ont les meme index\n",
        "    \n",
        "        structure[indix_left[index_m_left]] = '.'  # changer \")\" à \".\"\n",
        "        \n",
        "#structure = \"\".join(structure)\n",
        "    "
      ]
    },
    {
      "cell_type": "code",
      "execution_count": null,
      "id": "solar-lafayette",
      "metadata": {
        "id": "solar-lafayette",
        "outputId": "5f11e2da-5b9d-4f20-cfc0-b603a983e0ab"
      },
      "outputs": [
        {
          "data": {
            "text/plain": [
              "['(', '.', '.', '.', '.', ')']"
            ]
          },
          "execution_count": 41,
          "metadata": {},
          "output_type": "execute_result"
        }
      ],
      "source": [
        "structure"
      ]
    },
    {
      "cell_type": "code",
      "execution_count": null,
      "id": "noticed-dispatch",
      "metadata": {
        "id": "noticed-dispatch",
        "outputId": "ef25977a-fe67-4329-b50d-da7f4190bc0c"
      },
      "outputs": [
        {
          "data": {
            "text/plain": [
              "'(..)'"
            ]
          },
          "execution_count": 44,
          "metadata": {},
          "output_type": "execute_result"
        }
      ],
      "source": [
        "# suprimer Indel dans la Structure\n",
        "# supprimer plusieurs index d'une liste en même temps\n",
        "newStructure = [i for j, i in enumerate(structure) if j not in indix_indel]\n",
        "newStructure = \"\".join(newStructure)\n",
        "newStructure"
      ]
    },
    {
      "cell_type": "code",
      "execution_count": null,
      "id": "requested-spoke",
      "metadata": {
        "id": "requested-spoke",
        "outputId": "100da04e-315a-4521-95df-9ee2a2615114"
      },
      "outputs": [
        {
          "data": {
            "text/plain": [
              "'ACGU'"
            ]
          },
          "execution_count": 45,
          "metadata": {},
          "output_type": "execute_result"
        }
      ],
      "source": [
        "# suprimer “-” dans la Sequence\n",
        "newSequence = sequence.replace('-','')\n",
        "newSequence"
      ]
    },
    {
      "cell_type": "code",
      "execution_count": null,
      "id": "electoral-rebate",
      "metadata": {
        "id": "electoral-rebate"
      },
      "outputs": [],
      "source": [
        "def contract(sequence, structure):\n",
        "    indix_left = [i for i, x in enumerate(structure) if x == \"(\"]\n",
        "    indix_right = [i for i, x in enumerate(structure) if x == \")\"][::-1]\n",
        "    indix_indel = [i for i, x in enumerate(sequence) if x == \"-\"]\n",
        "    ss2tuples(structure)\n",
        "    \n",
        "    # si Indel peut construire un paire de base \"()\", \n",
        "    #avant de le suprimer, il faut change son partenaire de \"(\" ou \")\" à point \".\" \n",
        "    structure = list(structure)\n",
        "    for m in indix_indel:\n",
        "        if m in indix_left:\n",
        "            # si \"-\" correspond à \"(\" in structure\n",
        "            structure[m] = '.'    # changer \"(\" à \".\"\n",
        "            index_m_right = indix_left.index(m)    # chercher \")\" qui correspond à \"(\". ils ont les meme index\n",
        "            structure[indix_right[index_m_right]] = '.'  # changer \")\" à \".\"\n",
        "\n",
        "        if m in indix_right:\n",
        "            # si \"-\" correspond à \")\" in structure\n",
        "            structure[m] = '.'    # changer \")\" à \".\"\n",
        "            index_m_left = indix_right.index(m)    # chercher \"(\" qui correspond à \")\". ils ont les meme index\n",
        "\n",
        "            structure[indix_left[index_m_left]] = '.'  # changer \")\" à \".\"\n",
        "            \n",
        "    # suprimer Indel dans la Structure\n",
        "    # supprimer plusieurs index d'une liste en même temps\n",
        "    newStructure = [i for j, i in enumerate(structure) if j not in indix_indel]\n",
        "    newStructure = \"\".join(newStructure)\n",
        "    \n",
        "    # suprimer “-” dans la Sequence\n",
        "    newSequence = sequence.replace('-','')\n",
        "    \n",
        "    return (newSequence,newStructure)\n",
        "    "
      ]
    },
    {
      "cell_type": "code",
      "execution_count": null,
      "id": "african-exception",
      "metadata": {
        "id": "african-exception",
        "outputId": "90699243-2eb0-47ba-9c82-a54c8580897a"
      },
      "outputs": [
        {
          "data": {
            "text/plain": [
              "('ACGU', '(..)')"
            ]
          },
          "execution_count": 12,
          "metadata": {},
          "output_type": "execute_result"
        }
      ],
      "source": [
        "contract('ACG--U', '((..))')"
      ]
    },
    {
      "cell_type": "code",
      "execution_count": null,
      "id": "statutory-vessel",
      "metadata": {
        "id": "statutory-vessel"
      },
      "outputs": [],
      "source": []
    },
    {
      "cell_type": "markdown",
      "id": "material-swift",
      "metadata": {
        "id": "material-swift"
      },
      "source": [
        "(d) [15pts] Pour chaque séquence et sa structure secondaire la plus stable, \n",
        "calculer (i) la fraction des paires de bases dans la structure consensus manquante dans la MFE \n",
        "et (ii) la fraction des paires de bases dans la MFE qui ne sont pas présente dans la structure consensus. \n",
        "Faire un “scatter plot” par famille, tel que pour chaque séquence sa valeur sur l’axe des X est celle calculée en i et sa valeur sur l’axe des Y est celle calculée en (ii).\n",
        "Attention aux gaps.\n"
      ]
    },
    {
      "cell_type": "code",
      "execution_count": null,
      "id": "funded-panel",
      "metadata": {
        "id": "funded-panel"
      },
      "outputs": [],
      "source": [
        "def contract(sequence, structure):\n",
        "    indix_left = [i for i, x in enumerate(structure) if x == \"(\"]\n",
        "    indix_right = [i for i, x in enumerate(structure) if x == \")\"][::-1]\n",
        "    indix_indel = [i for i, x in enumerate(sequence) if x == \"_\"]\n",
        "    ss2tuples(structure)\n",
        "    \n",
        "    # si Indel peut construire un paire de base \"()\", \n",
        "    #avant de le suprimer, il faut change son partenaire de \"(\" ou \")\" à point \".\" \n",
        "    structure = list(structure)\n",
        "    for m in indix_indel:\n",
        "        if m in indix_left:\n",
        "            # si \"-\" correspond à \"(\" in structure\n",
        "            structure[m] = '.'    # changer \"(\" à \".\"\n",
        "            index_m_right = indix_left.index(m)    # chercher \")\" qui correspond à \"(\". ils ont les meme index\n",
        "            structure[indix_right[index_m_right]] = '.'  # changer \")\" à \".\"\n",
        "\n",
        "        if m in indix_right:\n",
        "            # si \"-\" correspond à \")\" in structure\n",
        "            structure[m] = '.'    # changer \")\" à \".\"\n",
        "            index_m_left = indix_right.index(m)    # chercher \"(\" qui correspond à \")\". ils ont les meme index\n",
        "\n",
        "            structure[indix_left[index_m_left]] = '.'  # changer \")\" à \".\"\n",
        "            \n",
        "    # suprimer Indel dans la Structure\n",
        "    # supprimer plusieurs index d'une liste en même temps\n",
        "    newStructure = [i for j, i in enumerate(structure) if j not in indix_indel]\n",
        "    newStructure = \"\".join(newStructure)\n",
        "    \n",
        "    # suprimer “-” dans la Sequence\n",
        "    newSequence = sequence.replace('_','')\n",
        "    \n",
        "    return (newSequence,newStructure)"
      ]
    },
    {
      "cell_type": "code",
      "execution_count": null,
      "id": "typical-mistake",
      "metadata": {
        "id": "typical-mistake"
      },
      "outputs": [],
      "source": [
        "# pour 'RNAalifold /Users/wanlin/Desktop/RF00001.stockholm.txt'\n",
        "#coper les resultats des 3a\n",
        "seq_cons00001 = \"__GCUGGC_GG_C_C_AU_AGC____GG_G_G_U_G___GA__________A_AC_A__________C__CCG____A_UC____CCAUCC______CGA_ACUCG_GA_AGUUAA_G_________________CGCCCUA_G_C__G___CC__GAUG____GUACUGGGG__UGGGUGAC_C_CCCUG_GGA___A___AGUA____GG_U_CG_CU__G_CCAGGC\"\n",
        "ss_cons00001 = \"..((((((.((.(.......((....((.(.(.(......................................................................................................)))))..).)......((...((........(..((....((....).)..))...)..........)).....))....).))..).))))).\""
      ]
    },
    {
      "cell_type": "code",
      "execution_count": null,
      "id": "turkish-theory",
      "metadata": {
        "id": "turkish-theory",
        "outputId": "a1ea2e10-c8e1-43c1-f368-42d99884030b"
      },
      "outputs": [
        {
          "data": {
            "text/plain": [
              "True"
            ]
          },
          "execution_count": 15,
          "metadata": {},
          "output_type": "execute_result"
        }
      ],
      "source": [
        "len(seq_cons00001)==len(ss_cons00001)"
      ]
    },
    {
      "cell_type": "code",
      "execution_count": null,
      "id": "answering-blocking",
      "metadata": {
        "id": "answering-blocking"
      },
      "outputs": [],
      "source": [
        "# pour 'RNAalifold /Users/wanlin/Desktop/RF00174.stockholm.txt'\n",
        "#coper les resultats des 3a\n",
        "seq_cons00174 = 'UUAAAUUGUCCCGGUGACGGU___CCCCC________________________AAGG_______GGGGUG______AAAA__GGGAA_U_CC_G_G_UGC_______________________________AAAUCCGG_GGCUGCCC_CC_GCAACUGUAA__GC_GG__________GGAGCAACCCCCAACA_____________________________GCCACUGGGC_GUAA___________________________________________________________GC_CCGGGAAGGC___GGG__G_GG__AGGCGAUGAC__________________________________________________________________CCGC_GAGCCAGGAGACCUGCCGUCGCCCGUAGACCCACC'\n",
        "ss_cons00174 = '..............(((((((...(((......................................)))...........(..((....(.((.(..........................................))).)..(((......))).....................................................................((..((((((................................................................)).))))....))..........................................................................................................))))))))))..............'"
      ]
    },
    {
      "cell_type": "code",
      "execution_count": null,
      "id": "mexican-dairy",
      "metadata": {
        "id": "mexican-dairy",
        "outputId": "47acf4a4-bf20-4fea-926d-e4081e4e48b8"
      },
      "outputs": [
        {
          "data": {
            "text/plain": [
              "True"
            ]
          },
          "execution_count": 18,
          "metadata": {},
          "output_type": "execute_result"
        }
      ],
      "source": [
        "len(seq_cons00174)== len(ss_cons00174)"
      ]
    },
    {
      "cell_type": "code",
      "execution_count": null,
      "id": "medium-mozambique",
      "metadata": {
        "id": "medium-mozambique",
        "outputId": "c3ca1f6b-3904-47ce-b8de-10cf8c41e586"
      },
      "outputs": [
        {
          "data": {
            "text/plain": [
              "'(((((((((....(((((((......................................))))).)).((.((....(..((..((....)).))..)....)).))..))))))))).'"
            ]
          },
          "execution_count": 19,
          "metadata": {},
          "output_type": "execute_result"
        }
      ],
      "source": [
        "# structure secondaire en enlevant les positions qui ont des gaps dans la séquence.\n",
        "_, ss_cons00001_sansGaps = contract(seq_cons00001, ss_cons00001)\n",
        "ss_cons00001_sansGaps"
      ]
    },
    {
      "cell_type": "code",
      "execution_count": null,
      "id": "thirty-destruction",
      "metadata": {
        "id": "thirty-destruction",
        "outputId": "be41429e-73e0-4368-9aee-5831f60370e7"
      },
      "outputs": [
        {
          "name": "stdout",
          "output_type": "stream",
          "text": [
            "[(0, 116), (1, 115), (2, 114), (3, 113), (4, 112), (5, 111), (6, 110), (7, 109), (8, 108), (13, 105), (14, 104), (15, 102), (16, 101), (17, 96), (18, 93), (19, 92), (67, 90), (68, 89), (70, 65), (71, 64), (76, 62), (79, 61), (80, 60), (83, 59), (84, 58)]\n"
          ]
        }
      ],
      "source": [
        "# paires de bases dans la structure consensus\n",
        "ss2tuples_cons_00001 = ss2tuples(ss_cons00001_sansGaps)\n",
        "print(ss2tuples_cons_00001)"
      ]
    },
    {
      "cell_type": "code",
      "execution_count": null,
      "id": "stylish-chance",
      "metadata": {
        "id": "stylish-chance",
        "outputId": "719bba73-f237-457a-9ffe-9ddfee87391d"
      },
      "outputs": [
        {
          "data": {
            "text/plain": [
              "'..............((((((((((.......))).....(((...((((.........))))..(((....)))...........................((..((((((....))))))....))...............................))))))))))..............'"
            ]
          },
          "execution_count": 21,
          "metadata": {},
          "output_type": "execute_result"
        }
      ],
      "source": [
        "# structure secondaire en enlevant les positions qui ont des gaps dans la séquence.\n",
        "_, ss_cons00174_sansGaps = contract(seq_cons00174, ss_cons00174)\n",
        "ss_cons00174_sansGaps"
      ]
    },
    {
      "cell_type": "code",
      "execution_count": null,
      "id": "received-maple",
      "metadata": {
        "id": "received-maple",
        "outputId": "8fbc2853-9a61-4771-e298-0760641254c4"
      },
      "outputs": [
        {
          "name": "stdout",
          "output_type": "stream",
          "text": [
            "[(14, 167), (15, 166), (16, 165), (17, 164), (18, 163), (19, 162), (20, 161), (21, 160), (22, 159), (23, 158), (39, 126), (40, 125), (41, 120), (45, 119), (46, 118), (47, 117), (48, 116), (64, 115), (65, 73), (66, 72), (101, 71), (102, 61), (105, 60), (106, 59), (107, 58), (108, 33), (109, 32), (110, 31)]\n"
          ]
        }
      ],
      "source": [
        "# paires de bases dans la structure consensus\n",
        "ss2tuples_cons_00174 = ss2tuples(ss_cons00174_sansGaps)\n",
        "print(ss2tuples_cons_00174)"
      ]
    },
    {
      "cell_type": "code",
      "execution_count": null,
      "id": "spatial-siemens",
      "metadata": {
        "id": "spatial-siemens"
      },
      "outputs": [],
      "source": []
    },
    {
      "cell_type": "code",
      "execution_count": null,
      "id": "partial-consciousness",
      "metadata": {
        "scrolled": true,
        "id": "partial-consciousness",
        "outputId": "6927ba09-9b4a-43dc-e19d-2ff4be63af3b"
      },
      "outputs": [
        {
          "data": {
            "text/html": [
              "<div>\n",
              "<style scoped>\n",
              "    .dataframe tbody tr th:only-of-type {\n",
              "        vertical-align: middle;\n",
              "    }\n",
              "\n",
              "    .dataframe tbody tr th {\n",
              "        vertical-align: top;\n",
              "    }\n",
              "\n",
              "    .dataframe thead th {\n",
              "        text-align: right;\n",
              "    }\n",
              "</style>\n",
              "<table border=\"1\" class=\"dataframe\">\n",
              "  <thead>\n",
              "    <tr style=\"text-align: right;\">\n",
              "      <th></th>\n",
              "      <th>id</th>\n",
              "      <th>structure secondaire</th>\n",
              "      <th>energie</th>\n",
              "    </tr>\n",
              "  </thead>\n",
              "  <tbody>\n",
              "    <tr>\n",
              "      <th>0</th>\n",
              "      <td>X01556.1/3-118</td>\n",
              "      <td>(((((((((....((((((((....(((((((((.......))..)...</td>\n",
              "      <td>-33.5</td>\n",
              "    </tr>\n",
              "    <tr>\n",
              "      <th>1</th>\n",
              "      <td>X55260.1/3-119</td>\n",
              "      <td>..(((((((......((.(((......)))..)).....(((.......</td>\n",
              "      <td>-42.4</td>\n",
              "    </tr>\n",
              "    <tr>\n",
              "      <th>2</th>\n",
              "      <td>M16174.1/3-119</td>\n",
              "      <td>..((((((((((.(.(((.(((.....))).)))).)))(((.......</td>\n",
              "      <td>-47.0</td>\n",
              "    </tr>\n",
              "    <tr>\n",
              "      <th>3</th>\n",
              "      <td>X55267.1/3-119</td>\n",
              "      <td>..(((((((....((((((((.....((((((.............)...</td>\n",
              "      <td>-43.2</td>\n",
              "    </tr>\n",
              "    <tr>\n",
              "      <th>4</th>\n",
              "      <td>M16172.1/3-119</td>\n",
              "      <td>..(((((((.........(((......))).((((..(((((.......</td>\n",
              "      <td>-42.3</td>\n",
              "    </tr>\n",
              "  </tbody>\n",
              "</table>\n",
              "</div>"
            ],
            "text/plain": [
              "               id                               structure secondaire  energie\n",
              "0  X01556.1/3-118  (((((((((....((((((((....(((((((((.......))..)...    -33.5\n",
              "1  X55260.1/3-119  ..(((((((......((.(((......)))..)).....(((.......    -42.4\n",
              "2  M16174.1/3-119  ..((((((((((.(.(((.(((.....))).)))).)))(((.......    -47.0\n",
              "3  X55267.1/3-119  ..(((((((....((((((((.....((((((.............)...    -43.2\n",
              "4  M16172.1/3-119  ..(((((((.........(((......))).((((..(((((.......    -42.3"
            ]
          },
          "execution_count": 23,
          "metadata": {},
          "output_type": "execute_result"
        }
      ],
      "source": [
        "# dans la resultat de 3b\n",
        "df_RF0001.head()"
      ]
    },
    {
      "cell_type": "code",
      "execution_count": null,
      "id": "republican-travel",
      "metadata": {
        "id": "republican-travel",
        "outputId": "025d5730-73c7-4111-cf92-66faf2265415"
      },
      "outputs": [
        {
          "data": {
            "text/plain": [
              "712"
            ]
          },
          "execution_count": 24,
          "metadata": {},
          "output_type": "execute_result"
        }
      ],
      "source": [
        "len(df_RF0001)"
      ]
    },
    {
      "cell_type": "code",
      "execution_count": null,
      "id": "detected-postage",
      "metadata": {
        "id": "detected-postage",
        "outputId": "aae09e81-957d-4416-d673-aff7ff25dfe7"
      },
      "outputs": [
        {
          "data": {
            "text/plain": [
              "0      (((((((((....((((((((....(((((((((.......))..)...\n",
              "1      ..(((((((......((.(((......)))..)).....(((.......\n",
              "2      ..((((((((((.(.(((.(((.....))).)))).)))(((.......\n",
              "3      ..(((((((....((((((((.....((((((.............)...\n",
              "4      ..(((((((.........(((......))).((((..(((((.......\n",
              "                             ...                        \n",
              "707    (((((((((...(((((((((..(((.(((((............))...\n",
              "708    ....((((....))))(((((...(((((((((.......((.......\n",
              "709    .(((((....)))))..........((((.(..(((..(..(((((...\n",
              "710    (((((.(((((((....))))...((((.((((.......)))).)...\n",
              "711    ((((((((.(((..........(((((((.(((...))).).))))...\n",
              "Name: structure secondaire, Length: 712, dtype: object"
            ]
          },
          "execution_count": 25,
          "metadata": {},
          "output_type": "execute_result"
        }
      ],
      "source": [
        "df_RF0001['structure secondaire']"
      ]
    },
    {
      "cell_type": "code",
      "execution_count": null,
      "id": "general-water",
      "metadata": {
        "id": "general-water"
      },
      "outputs": [],
      "source": [
        "#(i) la fraction des paires de bases dans la structure consensus manquante dans la MFE\n",
        "#Faire un “scatter plot” par famille, \n",
        "#tel que pour chaque séquence sa valeur sur l’axe des X est celle calculée en i"
      ]
    },
    {
      "cell_type": "code",
      "execution_count": null,
      "id": "violent-hindu",
      "metadata": {
        "id": "violent-hindu",
        "outputId": "63b82e6d-ec04-421e-fbb6-9687638cf69b"
      },
      "outputs": [
        {
          "data": {
            "text/plain": [
              "'(((((((((....((((((((....(((((((((.......))..))))..)))...)))))).))(((.........((((((...)))))).........))).))))))))).'"
            ]
          },
          "execution_count": 26,
          "metadata": {},
          "output_type": "execute_result"
        }
      ],
      "source": [
        "ss_seq_00001 = df_RF0001['structure secondaire'][0]\n",
        "ss_seq_00001"
      ]
    },
    {
      "cell_type": "code",
      "execution_count": null,
      "id": "married-moore",
      "metadata": {
        "id": "married-moore",
        "outputId": "6b8e4a84-0e16-4de1-81b4-20b3688bbbcf"
      },
      "outputs": [
        {
          "name": "stdout",
          "output_type": "stream",
          "text": [
            "[(0, 114), (1, 113), (2, 112), (3, 111), (4, 110), (5, 109), (6, 108), (7, 107), (8, 106), (13, 104), (14, 103), (15, 102), (16, 92), (17, 91), (18, 90), (19, 89), (20, 88), (25, 87), (26, 65), (27, 64), (28, 62), (29, 61), (30, 60), (31, 59), (32, 58), (33, 57), (66, 53), (67, 52), (68, 51), (78, 48), (79, 47), (80, 46), (81, 45), (82, 42), (83, 41)]\n"
          ]
        }
      ],
      "source": [
        "ss2tuples_seq_00001 = ss2tuples(ss_seq_00001)\n",
        "print(ss2tuples_seq_00001)"
      ]
    },
    {
      "cell_type": "code",
      "execution_count": null,
      "id": "improved-immunology",
      "metadata": {
        "id": "improved-immunology"
      },
      "outputs": [],
      "source": []
    },
    {
      "cell_type": "code",
      "execution_count": null,
      "id": "romantic-presence",
      "metadata": {
        "id": "romantic-presence",
        "outputId": "adcf9806-7803-4ac9-970b-e6d9de21aff1"
      },
      "outputs": [
        {
          "data": {
            "text/plain": [
              "25"
            ]
          },
          "execution_count": 28,
          "metadata": {},
          "output_type": "execute_result"
        }
      ],
      "source": [
        "len(ss2tuples_cons_00001)"
      ]
    },
    {
      "cell_type": "code",
      "execution_count": null,
      "id": "central-slope",
      "metadata": {
        "id": "central-slope",
        "outputId": "05933c4d-371e-4dc0-fa71-e1e54c7abae3"
      },
      "outputs": [
        {
          "data": {
            "text/plain": [
              "35"
            ]
          },
          "execution_count": 29,
          "metadata": {},
          "output_type": "execute_result"
        }
      ],
      "source": [
        "len(ss2tuples_seq_00001)"
      ]
    },
    {
      "cell_type": "code",
      "execution_count": null,
      "id": "accessible-soldier",
      "metadata": {
        "id": "accessible-soldier",
        "outputId": "2c0d5387-1d22-4690-ae09-60747ed2b028"
      },
      "outputs": [
        {
          "data": {
            "text/plain": [
              "{(15, 102)}"
            ]
          },
          "execution_count": 30,
          "metadata": {},
          "output_type": "execute_result"
        }
      ],
      "source": [
        "set_cons_00001 = set(ss2tuples_cons_00001)\n",
        "set_seq_00001 = set(ss2tuples_seq_00001)\n",
        "set_cons_00001.intersection(set_seq_00001)"
      ]
    },
    {
      "cell_type": "code",
      "execution_count": null,
      "id": "intensive-province",
      "metadata": {
        "id": "intensive-province"
      },
      "outputs": [],
      "source": []
    },
    {
      "cell_type": "code",
      "execution_count": null,
      "id": "adolescent-native",
      "metadata": {
        "id": "adolescent-native",
        "outputId": "ca008411-b913-4b31-930d-1747fb775723"
      },
      "outputs": [
        {
          "name": "stdout",
          "output_type": "stream",
          "text": [
            "{(3, 111), (5, 111), (18, 90), (32, 58), (68, 51), (1, 113), (33, 57), (2, 112), (81, 45), (18, 93), (17, 91), (80, 46), (14, 104), (31, 59), (67, 52), (3, 113), (4, 112), (8, 106), (16, 92), (27, 64), (0, 114), (79, 47), (15, 102), (30, 60), (66, 53), (13, 105), (1, 115), (16, 101), (6, 108), (2, 114), (7, 107), (26, 65), (84, 58), (29, 61), (71, 64), (78, 48), (14, 103), (17, 96), (83, 41), (68, 89), (5, 109), (80, 60), (8, 108), (83, 59), (13, 104), (28, 62), (70, 65), (82, 42), (0, 116), (20, 88), (6, 110), (67, 90), (7, 109), (76, 62), (79, 61), (19, 89), (19, 92), (25, 87), (4, 110)}\n"
          ]
        }
      ],
      "source": [
        "print(set_seq_00001.union(set_cons_00001))"
      ]
    },
    {
      "cell_type": "code",
      "execution_count": null,
      "id": "lyric-novel",
      "metadata": {
        "id": "lyric-novel",
        "outputId": "076d7a6b-160a-4ac0-bc5b-6afd3bc7dae6"
      },
      "outputs": [
        {
          "data": {
            "text/plain": [
              "59"
            ]
          },
          "execution_count": 32,
          "metadata": {},
          "output_type": "execute_result"
        }
      ],
      "source": [
        "len(set_seq_00001.union(set_cons_00001))"
      ]
    },
    {
      "cell_type": "code",
      "execution_count": null,
      "id": "loose-alexander",
      "metadata": {
        "id": "loose-alexander"
      },
      "outputs": [],
      "source": []
    },
    {
      "cell_type": "code",
      "execution_count": null,
      "id": "english-butler",
      "metadata": {
        "id": "english-butler"
      },
      "outputs": [],
      "source": [
        "#(i) la fraction des paires de bases dans la structure consensus manquante dans la MFE\n",
        "#Faire un “scatter plot” par famille, \n",
        "#tel que pour chaque séquence sa valeur sur l’axe des X est celle calculée en i\n",
        "\n",
        "def fractionCons_MFE(df_sample,ss2tuple_cons):\n",
        "    fraction_x = []\n",
        "    fraction_y = []\n",
        "    for i in range(len(df_sample)):\n",
        "        ss_seq = df_sample['structure secondaire'][i]\n",
        "        ss2tuples_seq = ss2tuples(ss_seq) # des paires de bases dans la MFE\n",
        "        total_ss = set(ss2tuples_seq).union(set(ss2tuple_cons))  #calculer l'Union de deux listes\n",
        "        #(i) la fraction des paires de bases dans la structure consensus manquante dans la MFE\n",
        "        fractionX = len((total_ss - set(ss2tuples_seq)))/len(ss2tuple_cons)\n",
        "        fraction_x.append(fractionX)\n",
        "        \n",
        "# (ii) la fraction des paires de bases dans la MFE qui ne sont pas présente dans la structure consensus.\n",
        "        fractionY = len((total_ss - set(ss2tuple_cons)))/len(ss2tuples_seq)\n",
        "        fraction_y.append(fractionY)\n",
        "    \n",
        "    return (fraction_x,fraction_y)\n",
        "    "
      ]
    },
    {
      "cell_type": "code",
      "execution_count": null,
      "id": "flexible-badge",
      "metadata": {
        "id": "flexible-badge",
        "outputId": "2c348474-f03d-496c-f18d-9eb68893a92a"
      },
      "outputs": [
        {
          "name": "stdout",
          "output_type": "stream",
          "text": [
            "True\n"
          ]
        },
        {
          "data": {
            "text/plain": [
              "[1.0, 1.0, 0.96, 1.0, 1.0, 1.0, 0.76, 1.0, 1.0]"
            ]
          },
          "execution_count": 34,
          "metadata": {},
          "output_type": "execute_result"
        }
      ],
      "source": [
        "x_00001,y_00001 = fractionCons_MFE(df_RF0001,ss2tuples_cons_00001)\n",
        "print(len(x_00001)==len(y_00001))\n",
        "x_00001[1:10]                         "
      ]
    },
    {
      "cell_type": "code",
      "execution_count": null,
      "id": "golden-channels",
      "metadata": {
        "id": "golden-channels",
        "outputId": "9e601955-eea6-4e3f-ff67-b0c8c2ca4435"
      },
      "outputs": [
        {
          "data": {
            "text/plain": [
              "[1.0, 1.0, 0.96875, 1.0, 1.0, 1.0, 0.8235294117647058, 1.0, 1.0]"
            ]
          },
          "execution_count": 35,
          "metadata": {},
          "output_type": "execute_result"
        }
      ],
      "source": [
        "y_00001[1:10]"
      ]
    },
    {
      "cell_type": "code",
      "execution_count": null,
      "id": "olive-wales",
      "metadata": {
        "id": "olive-wales",
        "outputId": "6558c43c-7f40-42e7-fe42-e3f1a3bdf436"
      },
      "outputs": [
        {
          "data": {
            "text/plain": [
              "712"
            ]
          },
          "execution_count": 36,
          "metadata": {},
          "output_type": "execute_result"
        }
      ],
      "source": [
        "len(x_00001)"
      ]
    },
    {
      "cell_type": "code",
      "execution_count": null,
      "id": "proved-sitting",
      "metadata": {
        "id": "proved-sitting",
        "outputId": "840056b8-1dac-44f3-8172-f0e814f130bb"
      },
      "outputs": [
        {
          "data": {
            "text/plain": [
              "<Figure size 432x288 with 0 Axes>"
            ]
          },
          "metadata": {},
          "output_type": "display_data"
        },
        {
          "data": {
            "image/png": "[encoded data removed]",
            "text/plain": [
              "<Figure size 4800x2400 with 1 Axes>"
            ]
          },
          "metadata": {},
          "output_type": "display_data"
        }
      ],
      "source": [
        "# Faire la figure\n",
        "#import seaborn as sns\n",
        "import numpy as np\n",
        "import matplotlib.pyplot as plt\n",
        "from matplotlib.pyplot import figure\n",
        "\n",
        "x = np.array(x_00001)\n",
        "y = np.array(y_00001)\n",
        "\n",
        "plt.figure()\n",
        "\n",
        "figure(num=None, figsize=(60, 30), dpi=80, facecolor='w', edgecolor='k')\n",
        "\n",
        "plt.scatter(x,y,s=100)\n",
        "\n",
        "plt.xlabel(\"consOui_MFENon\",fontsize = 50)\n",
        "plt.ylabel(\"MFEOui_consNon\",fontsize=50)\n",
        "plt.title('RF00001',fontsize=50)\n",
        "plt.yticks(fontsize=40)\n",
        "plt.xticks(fontsize=40)\n",
        "\n",
        "plt.savefig('scatter_RF00001')\n",
        "plt.show()"
      ]
    },
    {
      "cell_type": "code",
      "execution_count": null,
      "id": "speaking-holiday",
      "metadata": {
        "id": "speaking-holiday"
      },
      "outputs": [],
      "source": []
    },
    {
      "cell_type": "code",
      "execution_count": null,
      "id": "purple-leadership",
      "metadata": {
        "id": "purple-leadership",
        "outputId": "0ab64a78-5201-46a5-8f5e-8743577a7a77"
      },
      "outputs": [
        {
          "data": {
            "text/html": [
              "<div>\n",
              "<style scoped>\n",
              "    .dataframe tbody tr th:only-of-type {\n",
              "        vertical-align: middle;\n",
              "    }\n",
              "\n",
              "    .dataframe tbody tr th {\n",
              "        vertical-align: top;\n",
              "    }\n",
              "\n",
              "    .dataframe thead th {\n",
              "        text-align: right;\n",
              "    }\n",
              "</style>\n",
              "<table border=\"1\" class=\"dataframe\">\n",
              "  <thead>\n",
              "    <tr style=\"text-align: right;\">\n",
              "      <th></th>\n",
              "      <th>id</th>\n",
              "      <th>structure secondaire</th>\n",
              "      <th>energie</th>\n",
              "    </tr>\n",
              "  </thead>\n",
              "  <tbody>\n",
              "    <tr>\n",
              "      <th>0</th>\n",
              "      <td>AF010496.1/39869-39652</td>\n",
              "      <td>((((.((((((((....((((((((((((..((...))..))))))...</td>\n",
              "      <td>-90.1</td>\n",
              "    </tr>\n",
              "    <tr>\n",
              "      <th>1</th>\n",
              "      <td>AF010496.1/105318-105541</td>\n",
              "      <td>.......((((((..((.((((((((((....))))))...........</td>\n",
              "      <td>-97.2</td>\n",
              "    </tr>\n",
              "    <tr>\n",
              "      <th>2</th>\n",
              "      <td>AF010496.1/116971-117194</td>\n",
              "      <td>((.((.(((...(((((((((((((........))))......(((...</td>\n",
              "      <td>-88.2</td>\n",
              "    </tr>\n",
              "    <tr>\n",
              "      <th>3</th>\n",
              "      <td>AF193754.1/4343-4142</td>\n",
              "      <td>.((((((.(((((((....))))))).))))))................</td>\n",
              "      <td>-58.3</td>\n",
              "    </tr>\n",
              "    <tr>\n",
              "      <th>4</th>\n",
              "      <td>AF193754.1/24966-24788</td>\n",
              "      <td>((((......((((((((((((((((((....)))))).....((....</td>\n",
              "      <td>-61.2</td>\n",
              "    </tr>\n",
              "  </tbody>\n",
              "</table>\n",
              "</div>"
            ],
            "text/plain": [
              "                         id  \\\n",
              "0    AF010496.1/39869-39652   \n",
              "1  AF010496.1/105318-105541   \n",
              "2  AF010496.1/116971-117194   \n",
              "3      AF193754.1/4343-4142   \n",
              "4    AF193754.1/24966-24788   \n",
              "\n",
              "                                structure secondaire  energie  \n",
              "0  ((((.((((((((....((((((((((((..((...))..))))))...    -90.1  \n",
              "1  .......((((((..((.((((((((((....))))))...........    -97.2  \n",
              "2  ((.((.(((...(((((((((((((........))))......(((...    -88.2  \n",
              "3  .((((((.(((((((....))))))).))))))................    -58.3  \n",
              "4  ((((......((((((((((((((((((....)))))).....((....    -61.2  "
            ]
          },
          "execution_count": 43,
          "metadata": {},
          "output_type": "execute_result"
        }
      ],
      "source": [
        "# dans la resultat de 3b\n",
        "df_RF00174.head()"
      ]
    },
    {
      "cell_type": "code",
      "execution_count": null,
      "id": "dying-orange",
      "metadata": {
        "scrolled": true,
        "id": "dying-orange",
        "outputId": "280687de-a449-40c8-c716-71e224c8c866"
      },
      "outputs": [
        {
          "data": {
            "text/plain": [
              "0      ((((.((((((((....((((((((((((..((...))..))))))...\n",
              "1      .......((((((..((.((((((((((....))))))...........\n",
              "2      ((.((.(((...(((((((((((((........))))......(((...\n",
              "3      .((((((.(((((((....))))))).))))))................\n",
              "4      ((((......((((((((((((((((((....)))))).....((....\n",
              "                             ...                        \n",
              "425    (((((((......)).))))).((((((....)))))).((.(((....\n",
              "426    ((((((((..(((....(((((..(((((((......))))))).....\n",
              "427    ..((((....((((((((((((((........)))......(((.....\n",
              "428    ..............(((..(((((((......)))))))......(...\n",
              "429    ........((((((((..((((..(((((((......))))))).....\n",
              "Name: structure secondaire, Length: 430, dtype: object"
            ]
          },
          "execution_count": 44,
          "metadata": {},
          "output_type": "execute_result"
        }
      ],
      "source": [
        "df_RF00174['structure secondaire']"
      ]
    },
    {
      "cell_type": "code",
      "execution_count": null,
      "id": "mobile-penetration",
      "metadata": {
        "id": "mobile-penetration",
        "outputId": "6af70af9-0055-4c36-9b84-9b7bef4a4b03"
      },
      "outputs": [
        {
          "name": "stdout",
          "output_type": "stream",
          "text": [
            "True\n"
          ]
        },
        {
          "data": {
            "text/plain": [
              "[1.0, 1.0, 1.0, 1.0, 1.0, 1.0, 0.8928571428571429, 1.0, 1.0]"
            ]
          },
          "execution_count": 45,
          "metadata": {},
          "output_type": "execute_result"
        }
      ],
      "source": [
        "x_00174,y_00174 = fractionCons_MFE(df_RF00174,ss2tuples_cons_00174)\n",
        "print(len(x_00174)==len(y_00174))\n",
        "x_00174[1:10]     "
      ]
    },
    {
      "cell_type": "code",
      "execution_count": null,
      "id": "comfortable-parker",
      "metadata": {
        "id": "comfortable-parker",
        "outputId": "39d764f8-13cc-491a-bf60-03018b1449d2"
      },
      "outputs": [
        {
          "data": {
            "text/plain": [
              "[1.0, 1.0, 1.0, 1.0, 1.0, 1.0, 0.9433962264150944, 1.0, 1.0]"
            ]
          },
          "execution_count": 46,
          "metadata": {},
          "output_type": "execute_result"
        }
      ],
      "source": [
        "y_00174[1:10]"
      ]
    },
    {
      "cell_type": "code",
      "execution_count": null,
      "id": "bizarre-mambo",
      "metadata": {
        "id": "bizarre-mambo",
        "outputId": "78af06c4-ac9b-4094-9c9f-74a97a30be49"
      },
      "outputs": [
        {
          "data": {
            "text/plain": [
              "<Figure size 432x288 with 0 Axes>"
            ]
          },
          "metadata": {},
          "output_type": "display_data"
        },
        {
          "data": {
            "image/png": "[encoded data removed]",
            "text/plain": [
              "<Figure size 4800x2400 with 1 Axes>"
            ]
          },
          "metadata": {},
          "output_type": "display_data"
        }
      ],
      "source": [
        "# Faire la figure\n",
        "#import seaborn as sns\n",
        "import numpy as np\n",
        "import matplotlib.pyplot as plt\n",
        "from matplotlib.pyplot import figure\n",
        "\n",
        "x = np.array(x_00174)\n",
        "y = np.array(y_00174)\n",
        "\n",
        "plt.figure()\n",
        "\n",
        "figure(num=None, figsize=(60, 30), dpi=80, facecolor='w', edgecolor='k')\n",
        "\n",
        "plt.scatter(x,y,s=100)\n",
        "\n",
        "plt.xlabel(\"consOui_MFENon\",fontsize = 50)\n",
        "plt.ylabel(\"MFEOui_consNon\",fontsize=50)\n",
        "plt.title('RF00174',fontsize=50)\n",
        "plt.yticks(fontsize=40)\n",
        "plt.xticks(fontsize=40)\n",
        "\n",
        "plt.savefig('scatter_RF00174')\n",
        "plt.show()"
      ]
    },
    {
      "cell_type": "code",
      "execution_count": null,
      "id": "possible-marathon",
      "metadata": {
        "id": "possible-marathon"
      },
      "outputs": [],
      "source": []
    },
    {
      "cell_type": "markdown",
      "id": "technological-religion",
      "metadata": {
        "id": "technological-religion"
      },
      "source": [
        "4. [20pts]\n",
        "(a) [5pts] Créer 3 structures secondaires avec les contraintes suivantes:\n",
        "i. Taille 50\n",
        "ii. Une sans jonction, une avec une jonction à trois brins, et une avec une jonction à quatre brins\n",
        "iii. Au moins 50% et au plus 80% des positions doivent être dans une paire de base"
      ]
    },
    {
      "cell_type": "code",
      "execution_count": null,
      "id": "optimum-imaging",
      "metadata": {
        "id": "optimum-imaging"
      },
      "outputs": [],
      "source": [
        "ss0 = '(.(.(.(.(.(.(.(.(.(.(.(.().).).).).).).).).).).).)'"
      ]
    },
    {
      "cell_type": "code",
      "execution_count": null,
      "id": "isolated-combine",
      "metadata": {
        "id": "isolated-combine",
        "outputId": "09cddb82-5077-4882-c8c1-b646c99642ef"
      },
      "outputs": [
        {
          "data": {
            "text/plain": [
              "50"
            ]
          },
          "execution_count": 13,
          "metadata": {},
          "output_type": "execute_result"
        }
      ],
      "source": [
        "len(ss0)"
      ]
    },
    {
      "cell_type": "code",
      "execution_count": null,
      "id": "metropolitan-aaron",
      "metadata": {
        "id": "metropolitan-aaron",
        "outputId": "4e92d172-0edb-451b-8397-5f589b2c606f"
      },
      "outputs": [
        {
          "data": {
            "text/plain": [
              "0.52"
            ]
          },
          "execution_count": 14,
          "metadata": {},
          "output_type": "execute_result"
        }
      ],
      "source": [
        "1-ss0.count('.')/50"
      ]
    },
    {
      "cell_type": "code",
      "execution_count": null,
      "id": "northern-rental",
      "metadata": {
        "id": "northern-rental"
      },
      "outputs": [],
      "source": [
        "ss1_3 = \"(....((((()))))....(((((()))))).....((((()))))...)\""
      ]
    },
    {
      "cell_type": "code",
      "execution_count": null,
      "id": "personal-illness",
      "metadata": {
        "id": "personal-illness",
        "outputId": "952be44e-17ac-4372-b66b-6c8623d7505b"
      },
      "outputs": [
        {
          "data": {
            "text/plain": [
              "50"
            ]
          },
          "execution_count": 17,
          "metadata": {},
          "output_type": "execute_result"
        }
      ],
      "source": [
        "len(ss1_3)"
      ]
    },
    {
      "cell_type": "code",
      "execution_count": null,
      "id": "young-spoke",
      "metadata": {
        "id": "young-spoke",
        "outputId": "f2f723b7-8dda-41ae-f744-191a0ec80764"
      },
      "outputs": [
        {
          "data": {
            "text/plain": [
              "0.6799999999999999"
            ]
          },
          "execution_count": 18,
          "metadata": {},
          "output_type": "execute_result"
        }
      ],
      "source": [
        "1-ss1_3.count('.')/50"
      ]
    },
    {
      "cell_type": "code",
      "execution_count": null,
      "id": "scheduled-entrepreneur",
      "metadata": {
        "id": "scheduled-entrepreneur"
      },
      "outputs": [],
      "source": [
        "ss1_4 = \"((((....(((())))....(((()))).....((((()))))...))))\""
      ]
    },
    {
      "cell_type": "code",
      "execution_count": null,
      "id": "representative-handle",
      "metadata": {
        "id": "representative-handle",
        "outputId": "06e5f766-e943-4b1d-db91-5e14e79de6df"
      },
      "outputs": [
        {
          "data": {
            "text/plain": [
              "50"
            ]
          },
          "execution_count": 20,
          "metadata": {},
          "output_type": "execute_result"
        }
      ],
      "source": [
        "len(ss1_4)"
      ]
    },
    {
      "cell_type": "code",
      "execution_count": null,
      "id": "strange-relationship",
      "metadata": {
        "id": "strange-relationship",
        "outputId": "b3626a2d-ed1f-4dcb-a3ef-70e771714ff0"
      },
      "outputs": [
        {
          "data": {
            "text/plain": [
              "0.6799999999999999"
            ]
          },
          "execution_count": 21,
          "metadata": {},
          "output_type": "execute_result"
        }
      ],
      "source": [
        "1-ss1_4.count('.')/50"
      ]
    },
    {
      "cell_type": "markdown",
      "id": "exact-count",
      "metadata": {
        "id": "exact-count"
      },
      "source": [
        "(b) [10pts] Échantillonner, avec RNAinverse 500 séquences pour chaque structure, et calculer la distribution des distances entre la structure MFE et la structure désirée."
      ]
    },
    {
      "cell_type": "code",
      "execution_count": null,
      "id": "experimental-diving",
      "metadata": {
        "id": "experimental-diving"
      },
      "outputs": [],
      "source": [
        "output_ss0 = run(['RNAinverse','-R500'], input=ss0, capture_output=True, text=True)"
      ]
    },
    {
      "cell_type": "code",
      "execution_count": null,
      "id": "robust-blood",
      "metadata": {
        "id": "robust-blood",
        "outputId": "0398d067-b58d-43a4-9ecd-a4758cba27f5"
      },
      "outputs": [
        {
          "name": "stdout",
          "output_type": "stream",
          "text": [
            "ACGGUUGGCGUGGGCGUGCGCAGUCGUCAGAGGGGGGUCGGGACAAAUGU   33   d= 5\n",
            "CUCGAAUUUCGGCGGGCGGGUGGGUAGCGGGUAGGUGGUUCAGAUUGGCG   35   d= 5\n",
            "GACUUGAGGCUGGAUUCUGAUCCUCGUGGGCCCGCAUUCGACGUGAAGCC   32   d= 6\n",
            "CCGGAGGGUUCUAGGAAAGGGUGUCGUCGUGUUUGCGUGGUGGUGUGUUG   22   d= 5\n",
            "CAUGUAUUUGUCAGGAUUUAGAAGCGGUUCGAAAACGUCAGAAAUGGGAG   28   d= 6\n",
            "CACUCUCCCUAAACGUCCUUGGUGCGGAUCGAUGUCCUUUUGUGCGAGCG   26   d= 6\n",
            "GGGGUGUCGGUGGAUUUAAGGGGGCGGUGUGUAAAAACGGGUGGGAGUGC   32   d= 3\n",
            "UCUUCUGAAUUGUAGGACCAUGAGGCGUCGAGAUGCAAUAGUACGGCACG   24   d= 7\n",
            "GAUCGGUGGGUGGUUCUUCAGGCGCGGGACGGGAAAACAAGUGAGUGACC   34   d= 6\n",
            "GGGUCAAAUUUGUAUGCGUGGACGGUGGGUGAGGGAAAGAAAGUUGUCGC   37   d= 3\n",
            "GCGCGGCGUGAAUGUGUGUGGCAGUAGUUCGGGGGACGCUGAUGGUGCAC   35   d= 6\n",
            "CGAGUGUGGUUGCGUGGCGUCUCGCGGGGGUCUUUAGGGGUUGGGAGUGG   31   d= 3\n",
            "GGAGUUUGAAUGCGCGUGUGAUGGCGGCUUGGGGGGGGGAUUGGUAGUGC   33   d= 2\n",
            "CUGUUGUAAGUGCAUGAGCGUGGUCGUCGAGGUUGGGGGGGUAGGGGCCG   27   d= 4\n",
            "CGUCGAUGUGUGUUUAUAGGGCGGGCGCGUUUCAUGUAGGGGAAUCAAUG   30   d= 6\n",
            "GUGUCGCAAUUUACUACGUGAGCGCGGGUUUGGGAAAUAAUUUGAGUCUC   29   d= 7\n",
            "ACGAGGUAGUCGUUAGCGUAGUCGUAGGUCGAGGGUGGGGUCAAGCAUGU   25   d= 3\n",
            "CGGAGUCAGUGGAUCGUGGUUGCGCGGGGAUUGGGGGUUUCUUGUCAUCG   34   d= 5\n",
            "GUUGUCGGUGUGUCAGUAAGGGUCGCUAGCGUCGGUGGGGGAGCGGGAUC   26   d= 5\n",
            "CCGGUUGAGGAGAGGGUGUGGGGGCGGCUCGGGAGUAUGUGCAUAGGUAG   30   d= 4\n",
            "GUCAUAGUCGUGGGUGGUUGUGGGCGGUCGGAUUGGGUGGAGAUCAUGUC   30   d= 5\n",
            "GGUAUUCUUGUGGGGUUGGGUUCGAUGGUGGCGGUUGCGAGGGGCAUGGC   30   d= 3\n",
            "GUGUUCGUCUCGGUCGUUUGUGGUGCUCGGGAAAGGUUCGUGUUGAUCUC   34   d= 5\n",
            "CUCUUUCCAAAUGGUCAGCGGGGUAUGCGCGGGUGAGUCUUUCGUGAGCG   30   d= 5\n",
            "GGUGGGGGGGUUAUUUGGCACACGCGGGCGCGGCGAUUCGGUUUUUGGGC   38   d= 5\n",
            "AAGACGAGGCUCUGCAUGUCACGCGCACGUUGGAAGGAGGAUGUUGACUU   31   d= 5\n",
            "CCCCAAGGUAGAGUCGAAUGGGCACGCGGUGAUUGGUCGCAACUUUUGAG   32   d= 5\n",
            "ACGCUUGGACGGAGGGGAUGAACGUGGGAUGGAUGUGUGCGUGUAACUGU   31   d= 4\n",
            "CGUGGGGAGGGAUGUUUCAAAAAGCGGUUUUUUAAAGAGCGUAUGUGGCG   27   d= 5\n",
            "CACUUGGACAGUGUCGUAUUCAAGGUGUUGUGAGGGUCCCUGUUGGCGGG   32   d= 6\n",
            "ACUGGAGGGGGGUUCGUGAAUGCGCGGGGAAUGGAGGAGUGCACGCUGGU   29   d= 4\n",
            "GCUGCGCGAAACCGUCCUGUCACACGCGCGUCUGGAUGCUUUGGAGGGAC   35   d= 5\n",
            "CCCGUUGACGUAACCUCCAACGCACGCGUGUUCGUGAUUAGGCCUAUGAG   31   d= 6\n",
            "CGAAAGGAGUUUGUCGGAUUACCACGCGAUAACUGGGCCAACGUGUUUGG   27   d= 5\n",
            "CUGACGAUUUGGGGUCCGACCACACGCGCGCUUGUACCACGGCUUGACGG   32   d= 6\n",
            "GGGGGUAAUUUGGGUGGGCAUGUGCGGAGGAGGCGAGCGGGGUUUUGCGC   34   d= 3\n",
            "CAAAUGCAUGGGGGUGAGCAAGGGCGGCGUAGGUGAGCGUGAAGGAUUCG   29   d= 3\n",
            "GGUGGGAGGGUGGAUGGGAGUGCGUAGGGGGUGUGAACGGGUGUGUGAGC   35   d= 1\n",
            "CGGGAUCGCGAAUGAACACAUGUACGCAGGAGUGAUGGAUGGGGAUGUGG   32   d= 4\n",
            "CGAGCAUUUUUUUCCCGGAACACUUACGCGAUGCAGUAAACAAGCGCUUG   31   d= 5\n",
            "CAAUCUGACAUCAGCAAGUGUGCGCGGGGAGAGUGGUUGGAGACUGGUAG   36   d= 5\n",
            "GGGAUGGGGGGGGUGGAGCAGGAGGCGUUCGGGUGUUUGUUUGUGGUCGC   34   d= 4\n",
            "GUGGAUGGUAAUGAUGAUGACUCGCGGGCGCCUUGAUUGUUGGUUUCUUC   27   d= 6\n",
            "GGGGAUUUUAUCGUGUGGGGAGGAGCUCGUGUGUGCCUGGAAAAAUGCGC   28   d= 5\n",
            "ACGACGAGGAUGAGAAAACGGAGCCGGCCCUGUUAUGUGAACGUGGAUGU   29   d= 5\n",
            "CGUUGUCCAAAUAGUUGCAGGCGUCGUCAUUUCCAGGUUUUUAGUCAGGG   32   d= 5\n",
            "GAAGGUCUUGUGCUGUGAAUCGAUGCUUGGGUACUCUGGAGAUGGCGUAC   34   d= 4\n",
            "CUUAGGAGAAAUUAAUCUGUCGGCGCUCUGUCCGUUUGUUUUGUGUAAAG   33   d= 5\n",
            "GCCACUCGUGUGAGAGCCGGUAUUCGCAAGGUGGGUGUGGGGGGAGCGUC   39   d= 5\n",
            "CAUGAUUGGGUGGGUUUGUUUGCACGCGGAAAGGGGGUGGGUGGGUGGCG   32   d= 5\n",
            "CUUGGAUGAUGACAUUUGACGCGGCGGCAUGUGAAACGACCUGAUCGAUG   32   d= 5\n",
            "GUUGCGCGCGAGCGGGUGUGAGUGAUGGAUGGGGGUGGGUGGAGGGAGGC   27   d= 3\n",
            "GGGGGGGUUGCAUGUGAGUGACGGAUGUGUGGGUGGGGGGGGUUGUGCGC   39   d= 2\n",
            "CGUGGGAGGGGUCGGGUUGGAGUGGCGAGUGCUGGUGGUCGCGUUCGGGG   31   d= 2\n",
            "CUGUUGCCCUAGUGUGCGCGACUGUAGAGUGGAGAGGAGUCGGGAGGCCG   31   d= 5\n",
            "GCACUACGUGUAUGGUAUUGAUCGCGGGCUCGAUUCGGAAGGGGAGGUUC   30   d= 5\n",
            "CGGGUUAGUGCGCGCGCGAAUGUGGUGGGAUUGGAGAGGGUGGUUAGUGG   29   d= 3\n",
            "CGGAGGUAUGUAUGGGUUGGGGGGGCGUUUGUUGGUGGAGGAUAUCGUGG   28   d= 4\n",
            "UGGGUCCCAUGUGUGUUGCUGUCUCGUGUCUGUGCCUCUCUUGGAAGCGA   32   d= 4\n",
            "CGUAGGAGUGGGUGGUCAAGGGGUCGUCGUGUCGUCGGGUGGGUGUUGGG   29   d= 2\n",
            "GGGACUUGUACUAGGAGGGAGGGGAUGCGCACGCACGUUGCACGAGGCGC   31   d= 3\n",
            "CGCAAAUGUGUGAGUGUAUGGGGGGCGUGUGAUGGGGUGGAAGGUUAGGG   31   d= 3\n",
            "CGUGGAUGCGGAAGUGGGAAGGGGCGGUGUAUGUGAGUGUGGGGUCGAGG   35   d= 2\n",
            "CGGGGGUUUUGGUGAGGUCGGGAGCGGUGUUGUCGUGGGUUGGAGCGUGG   32   d= 3\n",
            "CGUACUGGAACCUGAUUCUUCCGUCGUCUGUGGGAUCGAGCUGUUGUGAG   27   d= 6\n",
            "GGGGUACGGGUUUGCACACGCUGGCGGUUGGGAGAGGAAAGUAGAGGUCC   34   d= 5\n",
            "GGGUUGAGUUUUGAAGUUUGCGCACGCGGGGAAGGUACUAAGGUGGUUCU   28   d= 4\n",
            "AAGAAGGAUGCGUAAGUAGAAGCGCGGGGUAUUGGUGGGGGGUCUUCCUU   32   d= 5\n",
            "CGAUUCGGACUUUGGGAAAACGGCGCAUGGAUUUAUGAAACUGCGAUUUG   27   d= 6\n",
            "GGGAGUCUUAGCUGGGUAUGUGGUCGUCGGGGAAGUGAUUUGGGUCAUCC   23   d= 4\n",
            "GUGUCUCUGGGGUGGAGAAGGUCGCGGGUCGUCUUUUGCUGUAGCGUCUC   29   d= 6\n",
            "CCAGGGUCAAAGAGUGGAUUGUCGCGGGUCGGAUGGGUGUAUGAGCGUAG   33   d= 4\n",
            "GUUCGGCAUGUGGGUGUGCGUGGUCGUCGGAGGGGAGUGGGGGGGUGAUC   31   d= 3\n",
            "GGGGGGUGGGCGGGCAUGAUGACUCGUGGCAUUGAGGUGGGCGGGCGUGC   33   d= 3\n",
            "CGCGUGCGUGCAUGGCAGGGUCUUCGCGUAGCGUGUCGAGGAGGGGGGGG   34   d= 4\n",
            "GGGUUUCACAAGGGCGUCUGUACGCGGGCAGAGAGGGCUUCGCGGGUUGC   29   d= 4\n",
            "GCUGGUCAGGGGCAUGAAGGUACGCGGGAAGUUUUGAGAUGUUGUCCGAC   32   d= 6\n",
            "GAGCCGCCACAAGAGUCUACAGGUCGUCGUGUCGUCAUUUAUUGCGCCGU   30   d= 6\n",
            "ACUAGUGUCAAUUUUUCAGGUCGGCGGCGGGCAGCGGGGUAGUCUCAAGU   26   d= 5\n",
            "GGGGUUUGGGUGGAUGGAAGGGCACGCGGCGUACGGACGGGUCAAGGUGC   34   d= 3\n",
            "CUGGGCGGAAUGACGGAAGGGGGGCGGCGCGUAUGCAUGAUUGUGUUUUG   32   d= 5\n",
            "UGUGUGAGUACAUCUGAGGUGGCACGCGGUUCUUGAGGCGCACUAAGACA   32   d= 5\n",
            "UACACACUAGCGUAUGUUUGAUGGCGGCUUGGGGGGGGGGGUAGCGCGUA   35   d= 4\n",
            "GUCGGUUGCGUGGGAGUAAGGGGCGCACGUGUUGGUAUGGGGGGAUUGUC   28   d= 5\n",
            "CGGGUGACGUAAGGUAAAGUAGCACGCGUUUUUUGGGUUUUCGUGGGUGG   31   d= 5\n",
            "GGGUCUGUUCAGUUUAGUAGGUCACGCGUCGUAUAAGGGUAAGCCGUCGC   33   d= 4\n",
            "GCGUAGUGUGUUUCUUGUUUCCCUCGUGCGAACUGAAAAGGAUGCUCCUC   24   d= 7\n",
            "CUUCUCGUGAUCUAAAGGAAAGGGAUGCGUGUGCUUAAGGCCCCGACAGG   31   d= 5\n",
            "CGGGGGGUCUUCGUAUUUUUUCAGCGGUUAAGUGGUUCCAGGUCGCGUCG   30   d= 6\n",
            "CGAGUGACUGGCCUCCAUUAUCGACGACGGUGUUAGCGGCGACUGGGUGG   31   d= 5\n",
            "UGAUAGGGUGGGUGGGGGUGUAGGAUGCAAGGGUGCGGGUGGGUGUUUGG   35   d= 3\n",
            "AUGGUGUGUGAGGGAGGGAGUGGUCGUCGGGUGUGUGCAUGGGAGAGCUU   29   d= 2\n",
            "GGUGAACGUUAGAUUGUGAAGGGGGCGUCCAUGGGGUUGUCGGGUUGAGC   33   d= 3\n",
            "CGGGGGUGCGGCUGUUUAGAUGUGCGGAGAACUAGGGACUGGGGGUGUUG   36   d= 4\n",
            "GUUACGUUUGCUAGGGUAGGGGCGCGGGGUGUUGGUGUUGGGGGGGAAAC   27   d= 4\n",
            "GUGUGAAGUGUUAUCGGGCAUGGUCGUCGGAGGUUGUUAAGGGUCCGCUC   32   d= 5\n",
            "GGCGUAGCGCGGGGCAGAGGGGAGCGGUUCGUACAGGCGUGCACAGGGUC   30   d= 4\n",
            "GGCUAACUCACACAUGGAUGGUGGCGGUAUCAGCGAAGAGCGGGUUUGAC   31   d= 6\n",
            "GAAGUUAGGGUGCGCGGGGUCUCGUAGGUGUCUCGGAGUGGUGUUGGUUU   29   d= 4\n",
            "GGGGUGGUUAGGUACAUGAUUUUACGAACAAUGAAGAAGCAAGCGAGUGC   32   d= 4\n",
            "GUCGGAGCGGAAAUUAUUGUAGUGUGGAGUUUGAGGGUAUGUGCGUGGUC   34   d= 5\n",
            "CUGGUGGUCUCUCUUCGAGGUGGGGUGUGAGUGUGGAGUGUGUUGGCCCG   31   d= 5\n",
            "CAUGUGAAUGAUCCUUGGGUUUGGCGGCGAUUGUAGCGUUGAUUGACACG   30   d= 6\n",
            "GCAGAGUGUAGGUCGUUUCGUUGUGUUCCACGGGUCUAGUUAGGGUGUCC   28   d= 5\n",
            "CGAGUGUAUGAAUGGAUGGGUGGGAUGCGGGCGAGUGGUUGAAGGGGUGG   32   d= 2\n",
            "CGUGGGGACGUGGCAAAGGGGGGGCGGCUUGCAUUUAUGGGGACGUGACG   29   d= 4\n",
            "CUAGGACCCACUUGUCUGGACACGCGGGGGUUGGGGGGGGCGAGCUGUAG   32   d= 5\n",
            "GGAGUGGGGGCUUGUGAUUCUGAGGCGUGGGGGUGGGACGGUGUGAGUGC   26   d= 3\n",
            "CUUGGGUAGUCCGUCUUGUUUGGUCGUCGACGCGCGUCGGUUUGGUGGUG   37   d= 5\n",
            "UGGCCUAUCCGGAAGAGUUUUGGUCGUCGAUAACGUUUCCUGGUUGACGG   33   d= 7\n",
            "UUUGCGUGGGGGUGUACUUGUGCUUAUGAGGAAGAGGAGUGUGGGGGGGA   28   d= 3\n",
            "UGUUCCGGGGAAGGUUCAUGGGUGGCGAGUGGAGGGGUUUGUGUAGUACA   31   d= 4\n",
            "CGAAGGUGUACGUGGGCACAAGGGCGGCCUAGCGGUGGAGAAGAGCUUGG   27   d= 3\n",
            "AAGACUCAUUUGUAAGACGAGACGCGGGACAUGUGUAAGGGGCGGGACUU   30   d= 5\n",
            "GUGCGGUCGAACGAUAUACACAGACGCUUGCGGGUGCCAUUUGGGUUCAC   27   d= 6\n",
            "GUCUUGCGUGUGAGUAAAUUAGGGCGGCGUUAUUGAGUGAGGGGGGGGUC   32   d= 4\n",
            "CGUGUGUGGGGGGCAGGGGAGUCGCGGGACGUGCGUAUGCGUGGGAGGGG   35   d= 2\n",
            "CGCGACAGGGUGUGGAUGGGAGCUCGUGGUGCCGGUGAGGUCUUUUUGGG   28   d= 5\n",
            "CUGAGGGAGGGAGAGCGGCGUACGAUGGGACGGCACACAUGCAUGCACGG   27   d= 3\n",
            "CUCCGGUACGUCGUAGUAUAUUGCGCUCGAGAUAGUUCCAGGUGGCUGAG   27   d= 5\n",
            "UCUGUUGUUGAGUCGUAGUGCUGUCGUCGGGAGUCCCAUUGGUCUAGAGA   30   d= 5\n",
            "GGAGGGGGUAGCUGGUGUUGUCUGAUGGGGGAACUUGAUCAAGUCUGUGC   32   d= 4\n",
            "CUCUCCGGGUUACAUUUAUUUAGGCGGCGAAACAAGAGCAACACGGUGUG   30   d= 6\n",
            "CGGCCGGCUGGGGAAGGAUUUGGACGCUCGAAACUUACGUGACUUGUUCG   25   d= 6\n",
            "CUGGAAAAUCAAACAGGGAUCACGCGGGCGUUUUGUAUUUUAUUUUGCUG   31   d= 6\n",
            "GUACGAGUGCCUAAGCCCGGGAAGUAGUUCAUUGAUUUCGACGCAUGUUC   31   d= 7\n",
            "GAAGUACGAGAAACUAGGCGGGGGCGGCGCGGGCAGUUAUAUGGCGGUUC   33   d= 9\n",
            "UUAUUGUGUGUGGUUGUUGGGGAUGCUUGCGCUGGAAUCGAGGGGGGUUA   33   d= 5\n",
            "GGCGUGUGGCAAUCAGGGUUUGGGCGGCGAAAGUGUUAUUAUGGGAGGGC   35   d= 3\n",
            "CACCUACAUGUGCGUUUGACUUGGCGGCGGUUGAAAGGGGGGGGAAGGCG   27   d= 5\n",
            "GAGGGGGUGGCAGUGGAUCUGACGUGGGCCUGAUUUUUUGUUCUGUGCGC   21   d= 6\n",
            "GGUUUGUGCGUGGGCGGCGGGUUGCGGGUUUUAUGGGUGGGGGAGGAGGC   36   d= 4\n",
            "GUUCAAAAUCCGAAAGAGGGGGAGCGGUGUGUGUGUGUGGGACUUUAGGC   31   d= 4\n",
            "CACACUUAGCUUUGAACGAGGACGCGGGCCUUUGAUGAAACUUAUGCGCG   28   d= 6\n",
            "CGUUUGUGGUGGGGUGGUUGGGGUGCUUGCGGUUGGGUGUUUCGGAAAGG   31   d= 3\n",
            "CGACGGUGUGUGGUGGUGGGGGGUCGUCGCGUGAGUAUUGGGGGGCUUUG   36   d= 4\n",
            "GUCGUGUCGGAGAUUGUGGGUGCAUGCGGGGUGAGAUUGUGUGAGGAGUC   39   d= 3\n",
            "CUUAGUUAUGUCCAGCGACACUGUCGUCAGAGCCACAGGGGAAAGCGAAG   33   d= 5\n",
            "GGAUGAUCAACUCCGGACUUAGGGGCGUGUAAAUUUUGUGUUGGCUGUGC   28   d= 6\n",
            "GGUUCUGGACGGUUGACGGUGUGGCGGCUCGCGGACUACCCUGCUGAAGC   27   d= 4\n",
            "CAGGUAGUCAGGUGGUGUCUGUCGCGGGUCGGUCUCUAGCGGUCAAGCAG   25   d= 4\n",
            "UAGGCCAUUUGAUGCAUGGGGACGCGGGACUUGAAGGAACGAAUCGACUA   30   d= 5\n",
            "CUGUUCGUCUCUUGGUGUGUCCGUCGUCUGUCUCCCCGUGUGCUGGUUGG   34   d= 4\n",
            "AACGUGAUUUCGGUUGGGGCGAGGCGGCAUGUUCGGUUGGCGUUCGGGUU   28   d= 6\n",
            "AUUGUUAAAGUGCAAGGACUCGCUCGUGCGCGGCUUAGGGGUUUCAGGGU   28   d= 5\n",
            "CAGGGCGAGGGGGGGGUGAGGGGGAUGCGUCUGGGUGCGUGUACUUUUUG   32   d= 4\n",
            "CGUGAGGAGACAUUGUUGGACGAGAUAUGGACUACUAGAGCCGCCUGGGG   28   d= 4\n",
            "CGUGUGUGUUCGUGAUGGGUUUAGCGGUAAAUGCCUGGGGUGGGGGGAGG   25   d= 3\n",
            "GGUGGGAUUUAUAACAAUUAACGUCGUCUUUGCUUGGUAUCAGUGUUGGC   27   d= 6\n",
            "GACGCAUGCGGUGGUUUUCGUGAGUAGUGACGGGCAGUUCUGGGAGAGGC   27   d= 5\n",
            "GGAUCUGUACGGUUUGGGGACACACGCGCGAUUUGAGGCCAUUCUGAUGC   32   d= 6\n",
            "CGUUAAGCGGGGGGGGUAUCGAGGCGGCAUGGAAUUGUUCACACAUUACG   26   d= 6\n",
            "CCGAGGUGAAUGUUUGAAGAUGCGCGGGGAAUUUGAAAGAUUGGGCGCUG   27   d= 5\n",
            "CGUUUGAGACUUGGUGGGGACGCUCGUGUGCUGUCGGUGAUUGUUGUAUG   33   d= 6\n",
            "GGAUUGAGGAUGGGGGAGUGGGGGCGGCGCGGGUGUAUGGAUGUGAAUGC   34   d= 2\n",
            "CGGGCACAGGAAGAGGACUUUGGGCGGCGGAAUUUCGUUUGCAGCGGCAG   30   d= 5\n",
            "GAUGCGUGCGUGCGAGUCGGUGUGCGGAGGGCGAGUGGAAGGGAGGGACC   26   d= 3\n",
            "GGUCGGUAUGUAGUAGUUUGUUAGCGGUGGGAAAGUUCAAGGAGGCGGUC   28   d= 5\n",
            "GGGUUGCUUGAUUUGGUGGGUGGGGCUUCGGUGGGCUGGUGGUGGAUUCC   32   d= 4\n",
            "GUUGUGUGUGUGGGUGGCGUCUAGGUGUAGUCUCGGGUGGGGGAGAGAUC   30   d= 3\n",
            "GGGGGGGGCGUUCGUAGGUUUGUUCGUGGGGGGUGACGGGGGGUACGCAC   33   d= 5\n",
            "GCGUCGUUCCAGGUAGUAGUUCAGCGGUGAUCAAGUCUCUCGGGGGUCAC   26   d= 5\n",
            "CGGGGGGUUAAUUGGAAGUGUUUGCGGGGGGGGUCUGAAUUGUUGCGUGG   34   d= 4\n",
            "CUUGACCGAAGGUUCUCCGUCGCUCGUGGGUCUGUGCAGUUUGGGUGGUG   29   d= 4\n",
            "GAAAUGGUCACAAAUCCUUUGGCACGCGCCGGUGAAUUAGCGUCGGGUUC   30   d= 5\n",
            "CGUGUGGCAAAGGGUGGGUGUGGUCGUCGGGGGUGGGUGUUUUUUGGGGG   31   d= 3\n",
            "GUCUCUGAGUAAGACGUGCGGGGGCGGCCUCGAAGGACCUACACAGUGUC   35   d= 6\n",
            "CGGAGUCGAAAGCUGGAGAGAAUGCGGGUUGUGUGUUGGUUUGGUCGCAG   31   d= 4\n",
            "CAGAGGAGUGGAAGUGUGAGCGGGCGGCGGGUGGGGGUAUGGGUGCAUUG   33   d= 2\n",
            "CGUGAAUGCUUGACCACAGAGAGGCGGCACGUUGCGUUUGGGAGUUCAGG   24   d= 6\n",
            "UUCUUUUGGAGUCUAGCGGGUGCACGCGGAGCGGGUGGUCAUGGUAAGUG   29   d= 4\n",
            "CUAGUCAACGUAUUUACACCCCGGCGGCGGCGAGCAAAGAGGAUGAGUCG   30   d= 5\n",
            "ACCCUCGCGCGUCAAGGUAAAGCAGCCGGUUUCUUUUGUCACCCUACGGU   36   d= 6\n",
            "AGUGAUACGAUGCAUGGGGUAGGGCGGCGUUUUCGGCGGGAUGUUUGACU   25   d= 4\n",
            "AACAUUUAGCUGCAUGAAAUCGAGAUGUCGUUUUGAAGGACCAAAGAGUU   25   d= 5\n",
            "CUCGACUCUAAUUGAAAAGGUACGCGGGCGGUUUUUGAUUUACAGUGGCG   27   d= 6\n",
            "CUGUCUAAGGGUCACAGCAAAGCGUAGGGUUUACGGCGUCCUUUCGUCCG   30   d= 5\n",
            "GCGAUGUGUUUGUGUGGUUGGGGACGGCGUGAUUCGGAGAAAGGGGCUGC   37   d= 4\n",
            "CAACAGUGCAUGGGUGUGUGUCGUCGUCGGGGGGGAGUGGAGGGGUCUUG   29   d= 3\n",
            "GGGUCGUUUCCUCUUUUGAGUACGUAGGAACUGGGGUGCGCAGGCGUCGC   30   d= 5\n",
            "CUGGAUUGAAGGUGGGUGUGUGCUCGAGGAGAGGGUGGGUUUGAUUGCUG   38   d= 3\n",
            "ACGCGGUGGUUUGGGAUGUGUGAGCGGUGAGAGAAUGCGAUCGAUCUCGU   31   d= 4\n",
            "GUGAGUUGGCGUGGUUGAAGGGGUCGUCGCGUACAGGUUCUCCACUUCUC   30   d= 5\n",
            "CUUUACUGGGGGUUCAUUGCGUCGCGGGUCACAGAGUAGCGUUGGUCGGG   32   d= 5\n",
            "GGGGUUUUUGUGUAUGGGGGCGGGCGGCUGGUUUGGGGGGGGUAAGGUGC   31   d= 4\n",
            "GGGGAAUAAGCGAGUAUGUGGGGGUGGCGUGAGAGAGUGGGUAAUUGUGC   28   d= 2\n",
            "CAUGUGCGAACACUUGGGAACUUGUAGGGGCUUUGAGGAGAUGGGGGGGG   32   d= 5\n",
            "CGGGGGUAUUUCGUUGUCACGCGUCGUCUUGUUACGUCUAAAGAGUCCAG   33   d= 6\n",
            "GGGCCCUUCUAGAAAGGUUGUACUCGUGGACGUCGUUUGUUGCAGGACGC   36   d= 4\n",
            "GCGUCCCCGGAGGGGAAUUUGUCUCGUGUCGGAUCUGUGUCCCGUGUCGU   32   d= 5\n",
            "GCGGUUUGGGUCGGGGGGUUUCAGCGGUUAGGGUGCGCAGGUCGAGGCAC   33   d= 6\n",
            "GACACGACAUGGAAGGGAUUGUGGCGGCUCGAACGUUUUUAUCUGGCGAC   37   d= 6\n",
            "CUUGGGUGAAGGAGGGGGUGGACGCGGGUCGGGCGCAUGCAUGGGCGAUG   31   d= 3\n",
            "CUUCUUUCAGCGAGGUGGGGUCGGCGGCAAGUGUAUUUGGGUCAAACAGG   31   d= 5\n",
            "CUUAAGUGGCGAUGGGGGAUUACGCGGGCAAUGUUUGAACACGGGUUAUG   29   d= 5\n",
            "CGUCCCCGUGAAGGCAUGUCCGGUUAUUUGAAGAGGCUUUGGAGUGUACG   32   d= 5\n",
            "GGGGAGAAUGAAUUGACGCGGCGCUGACAUCGGGACCAUUGGUUGUACGC   29   d= 4\n",
            "GUCGAGUGUUUGCGUGUUGGGUCGCGGGUCGUAGGGGGGGUGGGGUGGUC   32   d= 3\n",
            "CUGUGCUGCCCCGGAAGGAACCCUCGUGUGUUGUUUGCUGUGUGACCCGG   31   d= 5\n",
            "GGGGAUAGGAGACUUAAUGCGACGCGGGACACUUUAUGGCUUUUUUACGC   32   d= 5\n",
            "AAGUGAGUCGUUCCCUGUCCAGCACGCGUUUGUCCGAGUAAGUCCUACUU   29   d= 5\n",
            "CGGUCCCUGGAAAUUCUGUGAACUCGUGAUGAUGUAAUGUUUGGUGUCUG   28   d= 6\n",
            "CGGAGGUGUGGGUGGGGGUGUGGGCGGUGAGAGCGUGAGUGGGGGCGUGG   32   d= 1\n",
            "GUCGGUCUCUCUCCAAGGAAGUCGUGGGUCUUGUUUAGCGCGUGGUUGUC   36   d= 6\n",
            "CUUAUGUGCACGCAUGAUCGUAGGCGGCUGGGUUGGAGGGGGGAGGGAAG   27   d= 3\n",
            "GGUGCACCUGCGUUUGGAAGCGGUCGUCUGGUAUGAUAGGGGGGAGGAGC   28   d= 3\n",
            "CGCGGGUGGGAAGCCAUUGAGGGUCGUCGCACGGAGAUUUGUUACUGGGG   29   d= 5\n",
            "CAGGAAAUAGCGGGGGUGUCGUCGCGGGUCGGGGGUAUCGGUUUUUGUCG   35   d= 5\n",
            "AACUGGAGGGGGGGUACAGUGUCGUAGGUCGCAGAGGUUCGUGUGCUGUU   29   d= 4\n",
            "GUGGAAAGGGUGCGUGCUGCUACAUGCGUGACUGGGGGGGGUGUUUGCUC   32   d= 4\n",
            "GGUGUGUGCGCGUGUGGGUGGGGUCGUCGUUAGUGGGAAGGGGAGAGGGC   22   d= 2\n",
            "CACAGGUGCAUGGCAGGAUGAUGGCGGCUUGGAUGUGCGGCGGACCCGGG   36   d= 4\n",
            "GACUGGAGGGGAAAAGGAGGUGGUGUUCGAUUGUGUUUACACGUGUGGCC   35   d= 5\n",
            "GGGAAGUGUGUGGGUUUCAGGUGGCGGUACGUAAGGAUGAGAGAGUUUGC   32   d= 4\n",
            "CCAGCACGGUCCAGAUCACACAAGCGGUUGCGGGUUCUUGUCAGCGUUAG   27   d= 6\n",
            "CAGUUGUUGUCGUAGAGGGAGGGGUAGCGCACGCGUAAGGUCGAGAUCGG   29   d= 3\n",
            "GUUUUAUGUGGUUUGGACGAAGCACGCGGUACUUGCAAUCGGGAUGGGAU   35   d= 5\n",
            "GGGCGGUGGAAGUUGGUGAAGAUCCGUAACAUUGGUAAGUCUGAGUGCGC   35   d= 5\n",
            "CUCUGAUUCAAUGAGCCAAGCGGGCGGCCGGUAGACGUGUAGGAGCGGUG   30   d= 6\n",
            "CUCAGGGGAUGGAUGAUGGGUGGGCGGCGACUGAACUUGUUUGCGUUGUG   34   d= 4\n",
            "GGUGAAGGCGGAUGUUUGGGUGGCGCACCGGCAGGGGAAUGGGUUUGAGC   35   d= 4\n",
            "ACGGGAUUCGGUCGGAGGUUAGCACGCGGUAGGUAUGGUCAGGAACAUGU   23   d= 4\n",
            "GGUACGAGUGCGAGGGGGGGUGGGCGGCGAGCAUGUUUGGAAGUGGAACU   29   d= 3\n",
            "GGGGGAGAAGUCAAGGAAUUAUUAGCCGUUGGUUGUUUUAGUACGCGCGC   36   d= 5\n",
            "GAAGUCGAAACACUUGUAAUUACGCGGGAAGUAAGAGGCGCUUUGGGUCC   30   d= 6\n",
            "GCGGAAGGCAUGUGAGGGAGUCGUCGUCUAGUUCUUGGGAAGGUUUGUAC   28   d= 5\n",
            "ACUUAGGGAGUGUACACGGGAGAUUGAUUUGCGGCGAAGGGUGUGUUGGU   31   d= 3\n",
            "GUUGUAGCUGAGGGAGGAGUCGAGCGGUUGUCGUGUGCGUGGACUAAAAC   29   d= 4\n",
            "GGGUGCGGGGCACAGGUGGACACUUAUGGGCUGACUUGCGAUUUGCUCGC   27   d= 5\n",
            "CGGGCGCGAACUCUAGAGUAAGCACGCGGUAACUGUUGCGAUGGGGUCUG   28   d= 4\n",
            "GUAGGUUGACGACAUGGCUGUGGCGCUCGGGAGCGGAGACAUGAACUUCC   29   d= 5\n",
            "CGGGUUUGGAUGCAUGGGUGCGCGAUGGGGAAGUGAGGGAACGGGAGUGG   33   d= 2\n",
            "CGAUUAGCUGGGGGGGGGUUUGUGAUGAGAAAGUGUGUACUGACAAGUGG   33   d= 4\n",
            "GGCGGGGGGGGGGGCGAGGGAACUUAUGAUGCGUGGGUGUGUGUGUGGGC   36   d= 1\n",
            "CGGGCGUAAGACCGUACGGGCGCGCGGGGGGCGGAAGGGUAUCAGGGUGG   34   d= 3\n",
            "CUUAGCAAAUGUCGGCAAGGUGCGCGGGGGGUUUAUCGUCUUUUACAAAG   32   d= 5\n",
            "GUUUUGAGGGUAUGGUUGAGUGUGGCGGGGGUGGUUGAAGGUCUGAUAAC   29   d= 3\n",
            "GGCGGUGGGGAUUGAUAGUUUGUGCGGGGAUGGUGUGGUUGCUCUUGGGC   32   d= 3\n",
            "GUGCGUCGCUUGUGGUCGGGUCCUCGUGAAGUUGUCGAGAUGGGUCGUUC   27   d= 4\n",
            "GCAAUGCACUGGCUUUUACUUCGUCGUCUGGGAAAAUGGUAGCGGAUUUC   30   d= 6\n",
            "CGCCGCGAAGUCGUUGUUAUGCCGUGAGACGUUAGAUCUGGUUUGUUGUG   31   d= 5\n",
            "GGGGAAUACGGGUGUGUGAAACGGCGGCUUUUGAGGGGGUGGAAUUGCGC   37   d= 3\n",
            "GGGGUGUGUGGGUGGGGGUGCGUGCGGAGGGAGUGUGGGUGAGGGGGCGC   32   d= 1\n",
            "GUUGGGAGUGCAGGACAGGACACGCGGGCGUUUUCUUCAGGGGUGUGAUC   30   d= 5\n",
            "GGGGUGUGGGGGCGAGGGUGGGGCGUUCGUGGCUGUGGACGUGAUGGCGC   34   d= 3\n",
            "GUGUUGUGAAAAUUUGUGACUGGGCGGCGAAUGGGAAGUUUUGGGAUCUC   34   d= 5\n",
            "GUUGUAAGUUUGGGGAGGAGUUCGCGGGUGGUUCAUGCGGUGGUUAGAUC   34   d= 4\n",
            "CUGAGACGUAUUUGAGCAGGGAGACGGCAUGCAGGUGAUGAGGGCCACUG   24   d= 18\n",
            "CGAGUAGCGGGGUAUGGGUGAAGGCGGCGUGAGCGGGGGUCUAUUAGUUG   28   d= 4\n",
            "CUGGGAUGAGGUAUGUUAAGGGGAUGUCGCGUGAGCUUUUGUGGGCACAG   35   d= 5\n",
            "UGUCGUCGGGGGAAUGUAAAUAAUCGUUAGUUAACGCUGUGUGGUCUAGG   40   d= 6\n",
            "GUGUUGUGCAUGGGAAGGGGUGCUGUCGGAGUGUUUGUGGAGGAGGUUGC   29   d= 3\n",
            "CGAGCACGUGUGGGAACCCUUAAGCGGUUACGAGUUGUGACGGGCGGUGG   32   d= 4\n",
            "AGUCGGUGGGUGCGUUUGUGAGGGCGGCGUGAGGUGGGGGGCGGGUAACU   31   d= 2\n",
            "GGGGAGUUGGUGAUUGGGACGGGGCGGUGUGUACGGUUGGGCGGGUGCGC   39   d= 3\n",
            "CUUUUGAUAGGGAUUGUGGUCGGGUGGUAGUUGGGGAUGUGUUUGGGGCG   31   d= 5\n",
            "CGAACAUGGAAUUAGGUUAUUAGGCGGCAAAUCAGUUAUUUCGGGGAUUG   29   d= 5\n",
            "CAGAUGUAUGCAUUCAUGUUGACGCGGGCCGGGAAGAGAGGGAAGAUUGG   30   d= 5\n",
            "GGAUCUUGACCUUGCACACAUCCACGCGGGAGAGCGGAAGCUGAUGAUGC   33   d= 4\n",
            "CAGUUUUUGGUGGGUGAAUGAGGGCGGCGUGGAUGGGCGAGUGAAAUCGG   36   d= 4\n",
            "GGGGUUUCUUUAGGUUCACAGGGGCGGCGUUGAGUAGUUGGAAAGGGCAC   22   d= 6\n",
            "CUUCUUGGGGUGUUUGCGGACUAGCGGUGGAUGGGAUGGGGUGUAGGGUG   28   d= 5\n",
            "GGGGUGUGUUUGUAGACGUUGGGGCGGUGCGGGGGCCAGAGGGGCGGCGC   29   d= 4\n",
            "CCGAUGCGGCUGAGACGUGAAUCGCGGGUUUUUCGUAUGAUCCGGAGCGG   34   d= 5\n",
            "GAAUGGUCAGAGCGGCGCGUCCAGUAGUAGUCACACCGGUGUCAGUGUAC   29   d= 5\n",
            "ACACUCGUAGAAUGUAAAGUGACGCGGGCCCCUUAACGAUUUCCGGUUGU   32   d= 6\n",
            "CAGAGGGGAGCUCCGGGGUAGUCGCGGGUCAGGUGUGGUGUUGCGUAUUG   39   d= 4\n",
            "GUAUGCUGGCACUCGAAGGGCUCGCGGGCGGUCUCUGGGUUCGAACAUCC   38   d= 6\n",
            "CGGGUGUGUGCGGGAUGGUGUGCGUGGGGGGGGUUUGCAGGAAACAGUGG   26   d= 2\n",
            "CAAGUGUGGGGGUGGGUCGGUGUCGUGGGGCUAGGUGGGCGUGAGAGUAG   32   d= 4\n",
            "CGGGGGUUUCUGCACGAUUGAUGGCGGCUUGAAUGGGGUACGGGGUUUGG   33   d= 5\n",
            "CGUGAACUCUGGGGUCGUGGUGCGUGGGGGGUUUGAGUGUCGUGAUUACG   37   d= 4\n",
            "GGCGGUCGCGAGAAUGAGGGUCGGCGGCGGGUGUGACUGUGGGGUCCGGC   28   d= 3\n",
            "GGGUUCAGUGUAGGGUUAGGGUCACGCGUCGUCAGCUCGAGGGUAAGCGC   25   d= 4\n",
            "CGAACGUUUGGGUGUGAGUAUGGGCGGCGACAGUGGGGGCGGGGAGAUCG   31   d= 3\n",
            "CUGAGGGAUGAGGGGGUGUAGGGUCGUCGUUAGGGUUCGUGGGCGCAUAG   34   d= 4\n",
            "GGGGUGUGAGAGUGUGAACGGACGUAGGAUGGGUGAGAGUGUGGGAGUGC   30   d= 1\n",
            "GGCGUGGAUGUGAACGGGAAUGGAGCUCGAAUGUGGAUGAGACCGACGGC   35   d= 2\n",
            "CAGUGGGGAAUGUGUGGGUGGGGUCGUCGUGGGCGGGGAAUUGUGUUUUG   36   d= 3\n",
            "CGUGUUAGAGUCCUUUUCGGCGGGCGGCGGGUGGAAUGCAGUGUGGGGGG   31   d= 4\n",
            "GUCGAGUCGAGAAGAGCAUGGUCGCGGGCCCGAGGUGUACCCGAGUGGUC   30   d= 4\n",
            "CUUUAGUGUCUUCAUUUGGGUGGGCGGCGGGCGGGAAGCGGAGGGUCAGG   36   d= 4\n",
            "CACGAGUGCGUUAGGGUAGGAGCGCGGGGUGUUAGCGUAGGGGGAUGGCG   33   d= 4\n",
            "UAUGAUUGUGUGGGCAUGAGCGCUGCUGGGGUGAGGGUGGGAGAAUGACA   37   d= 3\n",
            "UUUUGGUCGUGUGGUAUGUGGGGGAUGCGUGAGGAAGUAUGCAAGUAGGA   28   d= 5\n",
            "CUGUUGAGAAGUGUAGGCGUGUGGCGGCUCCCUCCUCUAUUUGUGGGCCG   30   d= 6\n",
            "CGCGUGUGAGGGUGGGAAGGUGGGCGGCGGGUGUGCGAGUGUGAGGGGGG   33   d= 1\n",
            "GGGGUUGUUCUUAUCAUUGGAACUCGUGAUGCGGAGGUUAUAAUAGGCGC   33   d= 6\n",
            "ACUAAGGUGAUAUUCAGGUGGGAGCGGUGUGGGCAGUAGAUUUUCUAGGU   27   d= 5\n",
            "AAGGACCGAAUCUGGGGACGCAUGCGGAGGGGACGUGAGGGUUGAUCUUU   32   d= 6\n",
            "GUCGUGGGAAGGUGGGGAGGUGGGCGGCGAGCGUGUGGGUUUGUGAGGUC   25   d= 3\n",
            "CGCGGCCGGACAUGUUGGGGUUUGCGGGGGGUGUAGGAAGUUUGACAGUG   26   d= 6\n",
            "GUAGUGCGCGCAAGGGGGUGAGGGCGGCGUGGGUUCGUGGGGGGGGGUUC   37   d= 3\n",
            "CGGAACAGGGUAGCGGUGAUUAGGCGGCGAAUCGGCACAAGUGUCUUCUG   26   d= 5\n",
            "CAUGAGAACGAAGGUGGGAAUGGGCGGCGAAUGCGAGUUUGGUUGUGGCG   38   d= 4\n",
            "GGCAGAGAAUUUAGUCCGAGUUGGCGGCAGGUUGAAGUCAGUACGUUGGC   29   d= 5\n",
            "UGGGCAUCGGGUUACAUCGGCAUUCGUGCGGCGGGGCAGCGUGGCGGCAA   32   d= 6\n",
            "CAUGUGAGUGUAGGUGUGUGGAGGCGGUUUGGGAGGGUAGGAGUGGGGCG   28   d= 3\n",
            "GGAGUGGGUUCGAGGGUGUAAGUGGUGAGUAAGGGUGUGGUGGUGAGUGC   39   d= 1\n",
            "GAGAUUUUUGUGUUAGUCCGAAGGCGGCAUGGGAUUUGGAGGUAAAACUC   30   d= 5\n",
            "CCUUUUUUGGAGUACAAGUCGUCGCGGGUCCAGUAGUAGUGUCGGGGGGG   27   d= 5\n",
            "GGUUUGGGAUCGAAGGUGGGUGGGCGGCGGGUGGGCAUGGUUGUUAGGGC   33   d= 3\n",
            "CGCUAUGGAUUGAGAAGACGAGGGCGGCGUGGCUUUGUGAAUGUAUUGGG   29   d= 4\n",
            "GUGGGGAAAAAUUCUUGGUGACAGCGGUAUGACUGGCAAUUUCUGCGUAU   24   d= 7\n",
            "CGAGUUGCCGAGGGGGGGGGCGGUGUUCGGGCGCGCACGUCGAUGAGUGG   39   d= 3\n",
            "CGAGAAGUUGACUUGCGUGUAACGGCGGUUCCCCCUGAGUGGUUUUGUGG   32   d= 5\n",
            "GUCAAGGGUGGAGGUGGGGGAGGGCGGUUUGUACGGUCGCGGGCGUGGAC   36   d= 4\n",
            "CGCGUUUGGAAUUGGGGGUGUGCACGCGGAGAGUCUGAUUACUGGGAGGG   38   d= 5\n",
            "CGCGUUCGCGACUACGUAGGGGGGCGGUGUGUUGAGGGGUGGUGCAGGGG   32   d= 4\n",
            "CAGCAGGGUAUGUGAAGAGGGACUCGUGACGCGUUUGGGAUGGUUUUCGG   30   d= 5\n",
            "GCGGACAAAUGGUGAUUUCGGGCACGCGUUGGCAGUAGGCGUUUAUUCAC   28   d= 7\n",
            "CUGGAGGUGGUGAGGAGGUGUGGGCGGCGAGAGUGUGUGGGUUUGUGCGG   30   d= 2\n",
            "GUGGGUCUGGUUUGUUAGUUUGCUCGUGGAAGGUCGGAAGGUUGUCGUGU   26   d= 4\n",
            "CAUGCGGCGUGGUGUGAGUGGGGGCGACAUCGGUAGGGGCACACUGGACG   30   d= 5\n",
            "GUCGCGUGGGAGGGAGUAGAAGGGCGGCGUAUUAGUGCGUGUGGGGGGUC   39   d= 3\n",
            "GGCACAUGUACGUAGAGACUGUCGCGGGAUGGACGCAAGGAGGGAGAGCC   32   d= 4\n",
            "GGGGGUCAUACGUGGUUGUGAAGUCGUCUUGAGAUUGAGGGGUGUCGCGC   26   d= 3\n",
            "CGAUCGGUCUCUGGUGUGUGGUCUCGUGUCGAAAGGGUGGUGUCAGGUGG   31   d= 3\n",
            "GGGGGUUGUUCUGCGCGAUUUUCGCGGGUAGGUCACACAGGGGGUCACGU   24   d= 7\n",
            "CAUGUGAUCUUGGGCUUUUGGGAGUAGUGUGAUAGGGCGAUGUUGAUAGG   28   d= 4\n",
            "CGUGUAGAUGAGAAGGAGUGUGGGUGGCGAGAGUGUAUGUGAACAAGACG   29   d= 2\n",
            "GGUGGUUUUGGGUGGGUGAAUGGGGCGUGAAUGGGCAGGCGGGGGCGAGC   29   d= 3\n",
            "GUCCGCAUUGCACGCAUGUUUGGUCGUCGAAAGGAGGGCGAGGUUCGGUC   32   d= 5\n",
            "GGGCUUUGCUAGUGGAUGUGAGCGCGGGGUGAGAACGAGUUGCAAGACGC   29   d= 3\n",
            "CGCGUGAAUGGGCGAGAAUGAGUGUGGGGUGAUUGUGGACGGAUGAGGGG   29   d= 2\n",
            "GGGGAAUGGCGGUGGAGUGUUGUGCGGAGGGCUUUCGGGUAUGAUUGCGC   26   d= 4\n",
            "ACGACGACCGUUUGAUUGUAGCCUCGUGACCACAUUGAAAGGCUUGACGU   37   d= 5\n",
            "GGUGGGGUCUUGAGAGUGAACGCGCGGGGGGUGAGUGUGGGGUCGUCGGC   29   d= 3\n",
            "UGGUCGAGUGUGGGAAAGGUCGGUUGUUGGUCGUGUGCGGGGGUGGUCGA   29   d= 3\n",
            "GAAGGUGUCGGGUAUGUGGAGCAGCGGUGCGCGGGAUGGCGGUCUCGUAC   32   d= 4\n",
            "CUGAUGGUGGUAUGGUUGUGAGUGUAGAGUAGGAAUGGGAUUUCGGGCGG   35   d= 4\n",
            "GGGGCGGGGGAGUGAGUGGGGGAGCGGUUCGUAGGUGGGUGCACGGGCGC   36   d= 2\n",
            "CGUGGUCAAGUGGUGUCUCUGUCUCGUGUCUGUGUCUCUGGUAGUCAACG   32   d= 3\n",
            "ACUCCAAAGGCGCUGAGGGUUGUGGCGAGAAUGUACGGGGACUUCGUAGU   25   d= 5\n",
            "CUCGUCGGUUUUCGAUCCCUGCGGCGGCUCAGAGUUUGGAUAGUUACGCG   28   d= 6\n",
            "CUGGUGAGGGGGGGGCGGGGUGGGCGGCGAUUUUAUGUGCGUGUGGGUUG   37   d= 4\n",
            "CUCCGACGCGCGUGGUAUUGGUUGGUGAACAAAUUUGAGGGGAGAUGGCG   23   d= 5\n",
            "AGGAGUUGUGUGAGAGUGAAAGGGGCGUGUAUGGGUGUGAGGGAUCCUGU   25   d= 9\n",
            "GGUUGUCCGGAGUGAGGUAGUGGGUAGCGGGUUUGUGAGUGUGGUCCAUC   23   d= 3\n",
            "GGCGGGCGAGCGCAUGUGGUACUGCGGGGUUUGAGGAGGGAUGGGUCGAC   32   d= 4\n",
            "GGCGAGAGACUGAACAUGUGCGCGUAGGGGGGGGAGUUGGCUGUGUGGGC   28   d= 2\n",
            "CUGCGGUGCGUGUGAGGAGUUUGGGUGCUAGCGUGUGGGGGGGGGCAUAG   29   d= 4\n",
            "CGUGUGGGGGUGGGUGUGGAUGUGCGGGGGAUGGGAUCGGGUGUGGGAGG   31   d= 2\n",
            "CGUUGGUAGGAGGGGGUGGGUGAUUGUUGGGUAGGUGUGUGUAAGCGGGG   32   d= 2\n",
            "CGAAGCAACACGUUUGUGGGUUGGUAGCUGGCGGGAAGGGUGAUCCUUGG   35   d= 5\n",
            "UUGUUGGGGGAAUUGGUGUGCUGGCGGUUGGGGGGUAAAUGCGUGGUCGA   28   d= 4\n",
            "UGCUUCAUAAGUGCUUCGGGGCGAGCCCUUUCUGGAUCUCUUUUGGUGGA   36   d= 7\n",
            "GGGCAGCAGGGGUACGAACAUUAGUGGUAGAGAUGGGAUCGCAGUUACGC   35   d= 4\n",
            "AAUUUGAGAGUGUGACAAAGAAGGCGGCGUGUUUCUGAGGGUGUGAAGUU   28   d= 4\n",
            "CGCACGGGGCAAUGGUAGUGGUCGCGGGUCUGGUUCGAGUGUGUCGCGGG   27   d= 4\n",
            "AAGCUCGGCACGUUUGUGAAAACGCGGGAUUUGGGGUAGGAGUCGGACUU   27   d= 5\n",
            "CUGCUGUUCGUGUCGGGGGUUCGGCGGCUAACACGUGAGAGGUGCGUCGG   28   d= 5\n",
            "CGAGGGUUUGGGUGUGUGAGUCGGCGGUGAAUGAGGAAGUGAGGGUGUGG   28   d= 3\n",
            "GAGGUAGUAGUUUUUCCCCCUGAGCGGUCGCGGGCAAGUAGUCUUAGCGC   24   d= 6\n",
            "CGAUGGGGGCUUGAGGUUGGUGGGAUGCGGGCAGGUACUAAUGCGCAUGG   29   d= 4\n",
            "CGUCUGUUGAGAAAAGAUAGUGCACGCGAGGUUUCUUUACGCCAGGGAGG   30   d= 5\n",
            "GGCGGGAGGGGAAAAUUGGAGAGGCGGCGCACGAAUUUACGCGUAUCGGC   34   d= 4\n",
            "UAGGCGGGGCGUGCGUAGAUGUGGUGGCUCUUCUCCUCUCGUGUGGGCAA   34   d= 4\n",
            "GAGGAUAUUUCGGUCAUGUGUACGCGAGGAGGGGAGUCUGUGGUUUGUCU   25   d= 10\n",
            "CGCGUUCGUGAAGGUACUGGAGUUCGUAGUGUAGCAGUUUGGAGUAGGGG   31   d= 3\n",
            "CGUGGGUGGGUGUGGUAGUGUGGUGCUUGAGGGUUUCGAAGUGGGUCGGG   34   d= 3\n",
            "UCCCUGUAAGUGGGCGACCUUGGUUAUCGAAGUUGGGCGGGUUAGACGAA   31   d= 4\n",
            "CGAGUCUGCACGGAGAAGUUUGCACGCGGAAGGUACAUGGCGCAUAGUUG   34   d= 4\n",
            "UAGGGGUGUGUGGGUGCGCAUGGGAUGUGGAGGGGAGUGGGGGGGCGUAG   28   d= 2\n",
            "GUAGAUGCGAUUCUCUCUUUUCGGCGGCUAAAUGUGUGUAUCCUGUGUGC   29   d= 5\n",
            "CGGAAUUUUUUCGAUGGGUUCGCGUGGGGGUGGUGAUCAAGGUGGUGCUG   38   d= 5\n",
            "CGGGGGUGUAGCGUGUCGGUUUCGCGGGGGUUGGUCUCACUAGGGCGUGG   30   d= 3\n",
            "UACGGUUGUGAGUUAGUGUGUGGGGUGCGGGAGGGUUAGUGAGGUUGGAA   26   d= 2\n",
            "CUCGGGUGUGUAGUCUUUUUUCGGCGGCAAGAAAAGUCAAGGGGGUGGCG   28   d= 5\n",
            "ACUGGCGGAGUGGGGAGGAGGGAUGCUUGCGUCCGUGCGGGUUUUCGGGU   21   d= 4\n",
            "GGGGGGGAGGAAAAGGUUGUGUCGCGGGUCUCGGGUUUAUGCAUGCGUGC   31   d= 3\n",
            "GGCGUUUGGGGGUGGGUAAAUCGGCGGCAAUUAAGUGAGUGUGGGAGGGC   29   d= 3\n",
            "GGUGGCUUAAGGGGAAAGGGAAGGUAGCGUGUGUAUGUGUUUAAUUCGGC   28   d= 4\n",
            "GUCGUGGGUUUAAUUGUGUUGUGGCGGCUCUGGGGAAUUAAGGCGAGGUC   29   d= 5\n",
            "GGUGGACGCGUGUAUGCAAACCGGCGGCAGAUUGGGGAGGAGAGUUCGGC   34   d= 4\n",
            "UACGGGUGGGAACAAAAGAUAGGGCGGCGUUUCUUUGGAUUCAAGUGGCA   31   d= 5\n",
            "CGUUACCACAUGUAUGAGAUUACGCGGGCAAUCUGGCAGAGGCGGUCAUG   24   d= 5\n",
            "GGAGUGCGCGUAGGUGAGGGUCGGCGGCAGGUGUGAGUUAGGGGGGGUGC   31   d= 2\n",
            "CGCGCCGAUUGUAUUCCUCUUUGUCGUCAGUGUGUGGUCCAGCUGGGGGG   35   d= 5\n",
            "GGUGAAAGGGAAUGUAUGUGUGGGGUGCGAGAGGAAGGAUGUGUUUGGGC   34   d= 2\n",
            "CGUAUGUGUUGGAGAAAGGUGUCGCGGGUCUUGUAUGUCUGAGGGGAAUG   28   d= 4\n",
            "GCGGGGUGUUGAAGUGAGUUGGGGAUGUGUUAGUGAGUAUAGAGGUUUGC   26   d= 4\n",
            "GUGACGACUGUAUUUGACGAGAGAGCGCCCACAUGGAACACGUUUGACAC   31   d= 6\n",
            "CAUCGAUAACUUUGCGUCCGGCCGUGAGUCUGUAGGUAAAUUUGCUGGCG   31   d= 7\n",
            "GAGCGGUUAAUGGGGAUUGGGAGGAUGCAUGCGACUGUGAUUUGGUGCCC   29   d= 5\n",
            "GGUGUGUGGGUAAAUGCGUAGAGGCGGCAUUAGGGAUUCAGCGAGAGAGC   25   d= 3\n",
            "GAACAACUUCUGGGGAGAGCGGUGCGGAUUUCACGUGUUAGAUGAUGUAC   32   d= 6\n",
            "GGUGGGUCCCUUGCUUUUGUGUCACGCGUCUCUAAAUCGGGGUAUUGAGC   28   d= 5\n",
            "CGGACACGUAGUUUUGACUCGAGGCGGCAUUAGUAGGAUUUAGGAGACCG   29   d= 5\n",
            "GGGGACAAUGAAAUCUCGUCGUUGGCGAACCAGGUGUUUUGAAUGUGCGC   30   d= 4\n",
            "GGGGAGAUUACGGUCGAACUAUCACGCGGUUGCUUGCUUGUGUUGUGCGC   28   d= 5\n",
            "CUCCUGGGAAGGCGUGCGGCACUCCGAAGUUUGGAACGGUAUUCGAUGAG   34   d= 5\n",
            "CGGCCUUGGGAGCGUGCGGAUGGUUAUUGAGUGGGGGGAUGCGAAGAUCG   27   d= 3\n",
            "CGAAGCCCCGUACGACGAAUGCGAGCCCCCAUCCUUAGAACGCGACUUGG   26   d= 5\n",
            "CGAGGGUUGGGAUGUGGUUGUGCCCGGGGAGGUUGAGAACGCUAGUGUAG   35   d= 17\n",
            "GGGACGAAAUGUGGGGAUUGCUGCGCUCGGGACUGCGCUCAUUUGGACGC   34   d= 4\n",
            "CCGGAGUCGUGAAAGUGUCAGGGUCGUCGUCGUCAUUUCCUCGAGUGUUG   32   d= 5\n",
            "GCAAUGGGUGGGGAUUUGUUUAGGAUGCGGGGGGGGAUGUCGGUGGCUGU   32   d= 5\n",
            "GGUACAAUCAUGGGUAGGUGUAGGCGGUUGGAAUUAACGGAGGUGGAACC   30   d= 5\n",
            "CGGGAAUGACUUUGUGCAGUGUGGAUGCUCUCCGGGGAAGGUGGCUUUGG   30   d= 4\n",
            "GGCUUGUGGGGUCGUGUGUAGGUGCGGAGUAAGGGGAGAUUUGAGGCGUC   32   d= 4\n",
            "CGAGGCAGUGCGUGGUUGUGACAGCGGUAUGAUAUUGACGUGAUCCGUCG   29   d= 7\n",
            "CGUGGGACAAGCUGGGCAAAAUGGCGACUUUUGGGCGAAUAUGUGUGAGG   28   d= 4\n",
            "CGUACGGGAGCGGGCGUGGUUACUCGUGAAAUGGGGGCAGGUGUGGUGGG   32   d= 3\n",
            "GGUUGUUACUGCGUAGGUUCGUCACGGGUCGAUCGUUCACUGUGUUAGGC   32   d= 4\n",
            "CGAGAGUGAGCGUGUAUGGGCGUGCGGAGGGUGAGGGGGGGUGGGUGUGG   27   d= 1\n",
            "GACUGGAAGCGUCGUGGGUGGGUGAUGGGCGAGUGGAGACACAUGCGGCC   28   d= 4\n",
            "UUGGGGUGAAGGAGUCUGGAGGCACGCGGCAUGAGGGUGUUUGAGCACGA   28   d= 4\n",
            "CACGUCUUUGCCGUCAAGUCAGCGCGGGGUCAGUAGUCGGGAAACAGGAG   28   d= 4\n",
            "UAGACGGGGACGGAGACGUUGGGGGCGCUUUAGGACAUGGACUCUGGCUA   31   d= 5\n",
            "UCGUGUAGAUUUAUGGGGUGUGGUCGUCCGGAGUGUUUAGUUGUUCCCGA   35   d= 4\n",
            "GUGUCAAGGAUGAAUGCGCAUGGUCGUCGGAGGGGAUUGAAUGUAGGCUC   23   d= 4\n",
            "UCGGGGCAUUGGGAAAACAUUAGACGCCAAAUUUUUACGCUGGGGCACGA   33   d= 6\n",
            "GUACGUGCAAGCAAUGUUGUCAGGCGGCUGCCCAGAUUAUUUCCUCGUCC   27   d= 6\n",
            "CAUUGGUGCGGGCGAGAGGGAUGGCGGUAUGUGUGUGGACGGGAGUAAAG   29   d= 4\n",
            "CGUGAGGGAAUUUCGACAAACGCCCGGGGGAUGGACAAGGCUGCAUGGAG   25   d= 17\n",
            "CUACGGUGGGGGGGGACAGCUGGAGCACGAUUUGACGUUCGCGAGUAUAG   29   d= 4\n",
            "GACUUACUUGGCUGGGGCAACGCACGCGUGUUCUGUGGGUGGUGCAAGAC   35   d= 6\n",
            "GUGUCGUAGACCAAGGAGGGUGCCGCUGGAGUGUUUUUAGAUUAUGUCUC   32   d= 6\n",
            "CACCAUGGUUGAGAGUCCGCGCGCGCACUCCUGGUCGUACAAGUCUGGCG   31   d= 6\n",
            "GGUGUGUAAUAGUCAGUGGGCGAGGUGUUGGUGAGUUAGUCUUGGGGAGC   24   d= 3\n",
            "GCGUAAAUUGAUAAUAGAGACUCUCGUGCGGCCUUAUUCUGAAUUUCCAC   27   d= 6\n",
            "UGUCGUUGCCUUUUUACAGCUUUGCGGAAAUCAGAAAAAAUGCGUCAACA   29   d= 6\n",
            "CACAUGUGUGCGUUGUGCGGUGCUAUAGGGGCGUUCUAGGGAGGGGGGGG   33   d= 3\n",
            "AGCAUGAGGCGAGUUGCGGGUGGGUGGCGGGUAGGGACAUUUUUGGGGCU   34   d= 4\n",
            "CGUGAGUGUGGAGGUGGGCGAGGGCGGCGUGGGUGAGUGCGGGGGUGGGG   33   d= 1\n",
            "GGUAACGGUUCGAAUGCAAGUGGGCGGCGAGUGGGAAUGGGGCUCUUGGC   22   d= 4\n",
            "GGGGUGCAGGUGCAAGCGUUUGUGCGGAGAAAGGGUCGGAGUGGUGGUGC   31   d= 3\n",
            "CCAUAAGGUUCCAUUCGAGUUACUCGUGUAUCAUUAAUAGCGGUUUGUAG   33   d= 6\n",
            "CGAGUGAAGGGAUGUGUGUGCGCGCGGGGGAACGGAGAAUUUGUGAGUUG   35   d= 4\n",
            "CGAUGGGGCGUGUAGCUUUCAACGCGGGAUGGGAUCGAGGGGGUGCGUGG   31   d= 4\n",
            "GGGCGGGUUGUUCUGGGGAGGGUGGUGGGUGUGUGUUGUGGGUUGUGUGC   35   d= 2\n",
            "UGGCGAUGGGUUGGUGCGAGUGGGAUGUUAAUGGGAGCGGGUGAACACGG   31   d= 4\n",
            "ACUACGCGUCUAGAGGGGGUUCGGCGGUGAUUGUGCAUAAGAAGGGGAGU   30   d= 4\n",
            "GUCGUUGAGUUGGGCGUGACUUCUGCCGGGUUUGGGGUGAACGUAAGGUC   30   d= 6\n",
            "AGGUAGCGUUGUGGUGGGGGGGGUCGUCGUGUGUGGGUUCUACGGUUCGU   36   d= 3\n",
            "GGAGGGUUUGGGGAUGGUCAUUUGCGGGAGAGUCGGAUGCCGAGGCGUGC   29   d= 4\n",
            "CUUCGGAAGGUUAGUGUGUAUCGGCGGCGGAAGGGGGUAAGCAUGCAAAG   34   d= 4\n",
            "GUGGGGGGGGGGUCGAAAGGUGCGCGGGGAGUUUGCAAUUGCGUUUGCUC   29   d= 5\n",
            "GGUAGCGAUGUGUAGGCUUUAUAGUAGUGUCAAGUCCGGGGACCACUGGC   36   d= 5\n",
            "CAGCUGUGAGGGUCGGAGGGCGCGGUGGGGAUGUGUGAGUGUGGGGAUUG   26   d= 3\n",
            "GUGGAAGGUCGUAGUUUUAUCCGUCGUCUGUUAAAAGUUCUAGUUUGCGU   26   d= 5\n",
            "CGGGUUUGAAGGUACAUAUUGGCGUAGGGCAGGGAGCAGCAUGGGGGUGG   32   d= 4\n",
            "CGUGAGGGGGAGAGGGUGGACGCGCGGGGGCUGAUUGUAUGUGUUUUGGG   31   d= 4\n",
            "GAGAGGACCGGAGUCUGACGAGCGCGGGGUCGACUGUCAUGGGUGCGCGU   32   d= 4\n",
            "UGAUCCGCGUCCUAUGUUUACCGAGCCCUGAAAAUGUACGUCACUGGUGA   32   d= 6\n",
            "ACUAAUUGUUGUCGUCAGUUCUCUCGUGCGCACUCAGGUCCAGAAUAAGU   29   d= 4\n",
            "CGCAGCGGUAGCGUGAAGCAAGGUCGUCCUCGGUUCCCAUCAUUAUUGUG   33   d= 6\n",
            "CCGUGUGUGUCUGCGUCUUUCGGGUAGCUGUGGGUCUCUGUCUCCCUUGG   28   d= 4\n",
            "AUGUCGUUGGGGGGUGGAGGGGGGCGGCGCUCAUGAGUUCGCUAGGUCUU   34   d= 4\n",
            "CACGUCGACGUUACAGAGUGCUUGCGGAAGGAAUGUUUAAGGACCACGCG   27   d= 5\n",
            "ACGAAAAGCGGAGUGCACUUUCGGCGGCAAGGGUUCCCAUCGGUUUAUGU   28   d= 6\n",
            "GUUGAGCAUUCAUGGUAUAGUAGGCGGCAAUUUUUUAGCGGGUGGUGAUC   28   d= 7\n",
            "UGGCUGGCUUUGGCAAUACAUCCGCGGGGGAGAAUUAUGAUAGCGAUUGG   33   d= 6\n",
            "CUUGUUUGGCGCGUUUGCGUAGGUCGUCGUUCUCAAUCCCUCCAAAGAUG   28   d= 5\n",
            "CGCGUAAAAGAUUUGUGUGUGCGUCGUCCCCCUCCCAGUUGUUUAACGAG   29   d= 5\n",
            "GGGUCCCUCUGGAGAAUUGGUGAGCGGUGAGUGAAUGUGUGGGGUGUCGC   31   d= 4\n",
            "UGUGCGUUUGGGGGGGUGAGUAGGCGGCGGGUGGGUGCGCGGUAGGGACA   40   d= 2\n",
            "GGUGUAUGGGUAGGGUCGAAAAAGCGGUUUAUGGUCUCCAGCGGAACGUC   38   d= 5\n",
            "CGUGUUCGGUCUCGGUCGUCAUUGCGGGGUCAGGUCUGUGUCUGUAGGGG   27   d= 4\n",
            "CAUUUGGGGCUGGAUGCGAGGAGGCGGCACGUCGGAGCGAACGCGGGAAG   31   d= 4\n",
            "CGGUCCGCAUAAGAGGAAGCCACGCGGGUGAUUUGCAUUUGUUCCGUCUG   30   d= 6\n",
            "UUUGUGUACGGAGACGCGUGUGGGCGGCGAGAGGGGGCAUCGAACGGGUG   31   d= 4\n",
            "GGGGUCAAGAGAAUCCAGUGACGUCGUCGUGAGUAGCUUCCCUUCAGCGC   28   d= 4\n",
            "AGCUCAGUUAGUUAUGCACUUGCGCGGGGGAGAGGGGAACAGUCAGCGCU   35   d= 5\n",
            "CUGGGAUUAAAUCGUGUGACCGCUGCUGUGUUGGGAAGUUUUAAAUGUGG   31   d= 5\n",
            "CUCGGUUGGAGGGAUGGCACAUUGCGGAUUGUACGGGCGCGCGGAUCGCG   29   d= 6\n",
            "CUCGAACCGGGGACUGAUACCGCGAUGGAGGUUUUGUUGUGUGGAUUGCG   24   d= 6\n",
            "GGGGUUUGGGUGGAGGCACGGGCGCGGGGUGGGGGCAUGGGCGGGAGCGC   28   d= 2\n",
            "CGUAUAGGGGGUUAUAAUCGAACGCGGGCUUGUUUACGAUGCGUAGUGGG   28   d= 5\n",
            "AAAGUGUGUAAUUGUGGGUGGUGGCGGCUCGGGUGACGUUUAAGGGGUUU   32   d= 4\n",
            "CGGGUAUGGAGUGGCGCGCGUGUGCGGGGGGGGGGGUUUCGUGAAAGCUG   22   d= 3\n",
            "CGGUAGUGUAGUGUGUCCAGUGUGCGGGGGGUGGUCUUUCAAGAGUUUCG   27   d= 4\n",
            "GUAAACGACGACGGAGGGUUUGAGCGGUUAAGGUGUGCAUGGGCAUUUAU   34   d= 5\n",
            "GGCGGUUGAAUUCUCGGAAUCCUUGUAAAGAUGUGGUGUAUUGGUUGGGC   25   d= 4\n",
            "GUCUGCGUGGCGAAGGAAAAGUUGGCGAUUUUUUGCAUGGUCCCCCGGUC   28   d= 7\n",
            "CUAUUUUGACGGUGCACACACGGGUAGCGGGGGGCGGGGUUUGGGAUUUG   30   d= 18\n",
            "GGCGAGUUGGAGGCGGGGUCUGAGCGGUGGGGGUGCAUGUGCUGGUGGUC   24   d= 3\n",
            "UGCGUAGGACAGGGGGCAAAACGGCGGCAUUUGGGCUCAUAUUCGGGGGA   26   d= 6\n",
            "GUGGUUCUCAUGUACUGAUGUGGUCGUCGACGCCUGAAGGAGAGAAGUUC   31   d= 5\n",
            "CUGAAGGGGAUGGGAGUAUGGGGGCGGCGCUGAAGUUUGGAUGUGUACGG   34   d= 4\n",
            "AACGUACGAGUGUGGAUGGGUGGGCGGCGAGCGAGUGAGGGUGGAGGGUU   36   d= 2\n",
            "CGACUGGGCGUGAAUGUAUUUGGGCGGCGAAAAAGGGUGGGGGCGAAUCG   27   d= 3\n",
            "CGUGUGCGUGUGUGGGGGGGGGGUGUUCGUGUGUGUGGAGGGGGGAGAGG   30   d= 1\n",
            "UUAGAAUGUGUUGUGUUGAUUGGGGCGCGGUUGGACUCGGGGGGAUGUGA   34   d= 4\n",
            "CGUGCGAGGGGUAGUGAAAGUGGGGCGUGGCUGUGGGUCUGUGUGGUGGG   34   d= 3\n",
            "GGUUUGAGUGUGAAGGUGAAAGGGCGGCGUGUGAGCAUGGGGGUGAGGGC   35   d= 2\n",
            "GGGCAUACUUGAAGGAUUUAGCGCGCACUCCGGACCGUUCAGAUAUACGC   31   d= 5\n",
            "GGUGUGGUCAACGGAGAGAAAUGGCGGCUUUUGUGUGUGUAGUCGGGAGC   30   d= 3\n",
            "GCGUUUGUUAUGGGGGUGGGGGGGCGGCGUGUAGGUUCGACAACAAUCAC   33   d= 5\n",
            "CGGAUGGAUGAGUGGGAACAGGGGCGGCGCAGAUGUAGGUGGAUGGGCGG   25   d= 17\n",
            "AUCAAGGGGGCGUGUGUAUGUGGGCGGUGAGGAGGGGGGGGUGUGUAGAU   24   d= 2\n",
            "GGUCAGUGGGGAGUUUCGAAAACGCGGGUUAUGGCAUCAUGUGAGUGGGC   28   d= 4\n",
            "GGGUCGGGUGCUAAUGAGUGUUCGCGGGUGGAGUGGUUUGGAGUUGUCGC   28   d= 3\n",
            "GGUUAGUGUCUUGUUCGUGUGCGAGCCCCCUCAUGAUUGAAAGAGUAAGC   28   d= 5\n",
            "CAUGAGGGGGACGAUGUGGGGGGGGCUCGUGUGGGAAUGUGCGUUUGAAG   33   d= 4\n",
            "CUGUUUCGGAGGUGUGUGCGUGGGGCGUGGAGUGGAGGGUGUGGUAACUG   34   d= 4\n",
            "GGGGCGUGUCGUUGGGAGUGCUAGGCGUGGGGGUGCGGUUUAGAGGUUGC   27   d= 4\n",
            "CGGGAACUAUCACAUGGGGUGUCGCGGGUCUUGUCGAGCGUUGGGUCUGG   37   d= 4\n",
            "CACCGCUCAUAAAUUUUAGUCUCUCGUGCGCCCAAACUUUUUGAACUGUG   27   d= 5\n",
            "\n"
          ]
        }
      ],
      "source": [
        "print(output_ss0.stdout)"
      ]
    },
    {
      "cell_type": "code",
      "execution_count": null,
      "id": "seventh-fitness",
      "metadata": {
        "id": "seventh-fitness",
        "outputId": "a91369b8-1338-4017-ff48-5c06737bfafb"
      },
      "outputs": [
        {
          "data": {
            "text/plain": [
              "'CACCGCUCAUAAAUUUUAGUCUCUCGUGCGCCCAAACUUUUUGAACUGUG   27   d= 5'"
            ]
          },
          "execution_count": 24,
          "metadata": {},
          "output_type": "execute_result"
        }
      ],
      "source": [
        "# string --->  list; séparer les échantillons \n",
        "output_ss0.stdout.split('\\n')[-2]"
      ]
    },
    {
      "cell_type": "code",
      "execution_count": null,
      "id": "handmade-champion",
      "metadata": {
        "id": "handmade-champion",
        "outputId": "65ffdc82-9c5e-4e4b-aef1-dab4dbc2cb3a"
      },
      "outputs": [
        {
          "data": {
            "text/plain": [
              "''"
            ]
          },
          "execution_count": 25,
          "metadata": {},
          "output_type": "execute_result"
        }
      ],
      "source": [
        "output_ss0.stdout.split('\\n')[-1]  # il faut supprimer ce dernier item"
      ]
    },
    {
      "cell_type": "code",
      "execution_count": null,
      "id": "inside-sphere",
      "metadata": {
        "id": "inside-sphere",
        "outputId": "b54c1dee-9567-4132-c257-4041cf170796"
      },
      "outputs": [
        {
          "data": {
            "text/plain": [
              "'5'"
            ]
          },
          "execution_count": 26,
          "metadata": {},
          "output_type": "execute_result"
        }
      ],
      "source": [
        "output_ss0.stdout.split('\\n')[0].split('d= ')[1]"
      ]
    },
    {
      "cell_type": "code",
      "execution_count": null,
      "id": "guided-chick",
      "metadata": {
        "id": "guided-chick",
        "outputId": "eff99dc6-d471-4267-e85b-230eff40b0b1"
      },
      "outputs": [
        {
          "name": "stdout",
          "output_type": "stream",
          "text": [
            "[5, 5, 6, 5, 6, 6, 3, 7, 6, 3, 6, 3, 2, 4, 6, 7, 3, 5, 5, 4, 5, 3, 5, 5, 5, 5, 5, 4, 5, 6, 4, 5, 6, 5, 6, 3, 3, 1, 4, 5, 5, 4, 6, 5, 5, 5, 4, 5, 5, 5, 5, 3, 2, 2, 5, 5, 3, 4, 4, 2, 3, 3, 2, 3, 6, 5, 4, 5, 6, 4, 6, 4, 3, 3, 4, 4, 6, 6, 5, 3, 5, 5, 4, 5, 5, 4, 7, 5, 6, 5, 3, 2, 3, 4, 4, 5, 4, 6, 4, 4, 5, 5, 6, 5, 2, 4, 5, 3, 5, 7, 3, 4, 3, 5, 6, 4, 2, 5, 3, 5, 5, 4, 6, 6, 6, 7, 9, 5, 3, 5, 6, 4, 4, 6, 3, 4, 3, 5, 6, 4, 4, 5, 4, 6, 5, 4, 4, 3, 6, 5, 6, 6, 5, 6, 2, 5, 3, 5, 4, 3, 5, 5, 4, 4, 5, 3, 6, 4, 2, 6, 4, 5, 6, 4, 5, 6, 5, 4, 3, 5, 3, 4, 5, 5, 4, 2, 5, 6, 4, 5, 6, 6, 3, 5, 5, 5, 4, 3, 5, 5, 5, 6, 1, 6, 3, 3, 5, 5, 4, 4, 2, 4, 5, 4, 6, 3, 5, 5, 6, 4, 4, 4, 3, 5, 6, 5, 3, 4, 5, 4, 5, 2, 4, 1, 3, 5, 3, 3, 4, 6, 5, 3, 1, 5, 3, 5, 4, 18, 4, 5, 6, 3, 4, 2, 3, 5, 5, 5, 4, 4, 6, 5, 4, 5, 5, 6, 4, 6, 2, 4, 5, 4, 3, 4, 3, 4, 1, 2, 3, 4, 4, 4, 4, 3, 5, 6, 1, 6, 5, 6, 3, 6, 3, 5, 4, 5, 6, 3, 1, 5, 5, 3, 4, 7, 3, 5, 4, 5, 4, 5, 7, 2, 4, 5, 3, 4, 3, 3, 7, 4, 2, 3, 5, 3, 2, 4, 5, 3, 3, 4, 4, 2, 3, 5, 6, 4, 5, 9, 3, 4, 2, 4, 2, 2, 5, 4, 7, 4, 4, 4, 5, 5, 3, 6, 4, 5, 4, 4, 10, 3, 3, 4, 4, 2, 5, 5, 3, 2, 5, 4, 3, 3, 4, 5, 4, 5, 5, 2, 5, 2, 4, 4, 6, 7, 5, 3, 6, 5, 5, 4, 5, 5, 3, 5, 17, 4, 5, 5, 5, 4, 4, 7, 4, 3, 4, 1, 4, 4, 4, 5, 4, 4, 6, 6, 4, 17, 4, 6, 6, 6, 3, 6, 6, 3, 4, 1, 4, 3, 6, 4, 4, 2, 4, 4, 6, 3, 4, 4, 5, 5, 3, 5, 4, 4, 4, 6, 4, 6, 4, 4, 5, 6, 7, 6, 5, 5, 4, 2, 5, 4, 4, 6, 4, 4, 5, 5, 6, 6, 2, 5, 4, 3, 4, 5, 4, 7, 18, 3, 6, 5, 4, 2, 3, 1, 4, 3, 2, 5, 3, 5, 17, 2, 4, 3, 5, 4, 4, 4, 4, 5]\n"
          ]
        }
      ],
      "source": [
        "distance_RNAinverse = []\n",
        "# string --->  list; séparer les échantillons \n",
        "RNAinverse_output = output_ss0.stdout.split('\\n')\n",
        "RNAinverse_output.pop()  # le denier item est ''. Donc, il faut le enlever\n",
        "for seq in RNAinverse_output:\n",
        "    distance = seq.split('d= ')[1]   #rendre le numéro après \"d= \"\n",
        "    distance_RNAinverse.append(int(distance))\n",
        "    \n",
        "print(distance_RNAinverse)"
      ]
    },
    {
      "cell_type": "code",
      "execution_count": null,
      "id": "neural-payday",
      "metadata": {
        "id": "neural-payday",
        "outputId": "12e8243e-4844-4df8-ec4b-fed3cbccbbed"
      },
      "outputs": [
        {
          "data": {
            "text/plain": [
              "500"
            ]
          },
          "execution_count": 28,
          "metadata": {},
          "output_type": "execute_result"
        }
      ],
      "source": [
        "len(RNAinverse_output)"
      ]
    },
    {
      "cell_type": "code",
      "execution_count": null,
      "id": "gentle-there",
      "metadata": {
        "id": "gentle-there"
      },
      "outputs": [],
      "source": [
        "def get_distance(output_RNAinverse):\n",
        "    distance_RNAinverse = []\n",
        "    # string --->  list; séparer les échantillons \n",
        "    RNAinverse_output = output_RNAinverse.stdout.split('\\n')\n",
        "    RNAinverse_output.pop()  # le denier item est ''. Donc, il faut le enlever\n",
        "    for seq in RNAinverse_output:\n",
        "        distance = seq.split('d= ')[1]   #rendre le numéro après \"d= \"\n",
        "        distance_RNAinverse.append(int(distance))\n",
        "        \n",
        "    return distance_RNAinverse"
      ]
    },
    {
      "cell_type": "code",
      "execution_count": null,
      "id": "happy-exhaust",
      "metadata": {
        "id": "happy-exhaust",
        "outputId": "1e632c4a-6901-4816-ba43-8b7c784e2565"
      },
      "outputs": [
        {
          "name": "stdout",
          "output_type": "stream",
          "text": [
            "[5, 5, 6, 5, 6, 6, 3, 7, 6, 3, 6, 3, 2, 4, 6, 7, 3, 5, 5, 4, 5, 3, 5, 5, 5, 5, 5, 4, 5, 6, 4, 5, 6, 5, 6, 3, 3, 1, 4, 5, 5, 4, 6, 5, 5, 5, 4, 5, 5, 5, 5, 3, 2, 2, 5, 5, 3, 4, 4, 2, 3, 3, 2, 3, 6, 5, 4, 5, 6, 4, 6, 4, 3, 3, 4, 4, 6, 6, 5, 3, 5, 5, 4, 5, 5, 4, 7, 5, 6, 5, 3, 2, 3, 4, 4, 5, 4, 6, 4, 4, 5, 5, 6, 5, 2, 4, 5, 3, 5, 7, 3, 4, 3, 5, 6, 4, 2, 5, 3, 5, 5, 4, 6, 6, 6, 7, 9, 5, 3, 5, 6, 4, 4, 6, 3, 4, 3, 5, 6, 4, 4, 5, 4, 6, 5, 4, 4, 3, 6, 5, 6, 6, 5, 6, 2, 5, 3, 5, 4, 3, 5, 5, 4, 4, 5, 3, 6, 4, 2, 6, 4, 5, 6, 4, 5, 6, 5, 4, 3, 5, 3, 4, 5, 5, 4, 2, 5, 6, 4, 5, 6, 6, 3, 5, 5, 5, 4, 3, 5, 5, 5, 6, 1, 6, 3, 3, 5, 5, 4, 4, 2, 4, 5, 4, 6, 3, 5, 5, 6, 4, 4, 4, 3, 5, 6, 5, 3, 4, 5, 4, 5, 2, 4, 1, 3, 5, 3, 3, 4, 6, 5, 3, 1, 5, 3, 5, 4, 18, 4, 5, 6, 3, 4, 2, 3, 5, 5, 5, 4, 4, 6, 5, 4, 5, 5, 6, 4, 6, 2, 4, 5, 4, 3, 4, 3, 4, 1, 2, 3, 4, 4, 4, 4, 3, 5, 6, 1, 6, 5, 6, 3, 6, 3, 5, 4, 5, 6, 3, 1, 5, 5, 3, 4, 7, 3, 5, 4, 5, 4, 5, 7, 2, 4, 5, 3, 4, 3, 3, 7, 4, 2, 3, 5, 3, 2, 4, 5, 3, 3, 4, 4, 2, 3, 5, 6, 4, 5, 9, 3, 4, 2, 4, 2, 2, 5, 4, 7, 4, 4, 4, 5, 5, 3, 6, 4, 5, 4, 4, 10, 3, 3, 4, 4, 2, 5, 5, 3, 2, 5, 4, 3, 3, 4, 5, 4, 5, 5, 2, 5, 2, 4, 4, 6, 7, 5, 3, 6, 5, 5, 4, 5, 5, 3, 5, 17, 4, 5, 5, 5, 4, 4, 7, 4, 3, 4, 1, 4, 4, 4, 5, 4, 4, 6, 6, 4, 17, 4, 6, 6, 6, 3, 6, 6, 3, 4, 1, 4, 3, 6, 4, 4, 2, 4, 4, 6, 3, 4, 4, 5, 5, 3, 5, 4, 4, 4, 6, 4, 6, 4, 4, 5, 6, 7, 6, 5, 5, 4, 2, 5, 4, 4, 6, 4, 4, 5, 5, 6, 6, 2, 5, 4, 3, 4, 5, 4, 7, 18, 3, 6, 5, 4, 2, 3, 1, 4, 3, 2, 5, 3, 5, 17, 2, 4, 3, 5, 4, 4, 4, 4, 5]\n"
          ]
        }
      ],
      "source": [
        "distances_ss0 = get_distance(output_ss0)\n",
        "print(distances_ss0)"
      ]
    },
    {
      "cell_type": "code",
      "execution_count": null,
      "id": "removed-radio",
      "metadata": {
        "id": "removed-radio"
      },
      "outputs": [],
      "source": []
    },
    {
      "cell_type": "code",
      "execution_count": null,
      "id": "large-pillow",
      "metadata": {
        "id": "large-pillow"
      },
      "outputs": [],
      "source": [
        "output_ss1_3 = run(['RNAinverse','-R500'], input=ss1_3, capture_output=True, text=True)"
      ]
    },
    {
      "cell_type": "code",
      "execution_count": null,
      "id": "macro-constant",
      "metadata": {
        "id": "macro-constant",
        "outputId": "29243841-ac2d-43c0-fb4c-282c18ca3899"
      },
      "outputs": [
        {
          "name": "stdout",
          "output_type": "stream",
          "text": [
            "[8, 8, 8, 8, 8, 8, 7, 7, 7, 7, 8, 7, 9, 8, 7, 11, 8, 8, 10, 8, 17, 7, 7, 7, 18, 7, 11, 7, 8, 8, 8, 7, 13, 7, 8, 7, 8, 7, 8, 17, 7, 8, 8, 7, 8, 7, 8, 8, 11, 7, 9, 7, 7, 7, 7, 9, 8, 7, 7, 7, 9, 8, 10, 7, 9, 8, 7, 7, 7, 9, 9, 18, 9, 7, 7, 7, 8, 7, 7, 7, 8, 7, 14, 8, 9, 8, 8, 19, 9, 8, 8, 7, 8, 14, 8, 7, 7, 7, 9, 8, 7, 7, 7, 7, 7, 7, 7, 8, 7, 7, 8, 9, 9, 9, 10, 18, 7, 8, 7, 10, 17, 8, 7, 7, 7, 8, 9, 7, 9, 16, 8, 7, 7, 7, 7, 18, 9, 7, 7, 8, 7, 7, 10, 7, 7, 11, 7, 7, 8, 8, 10, 7, 7, 11, 17, 8, 7, 11, 9, 7, 7, 8, 9, 8, 8, 7, 8, 8, 7, 9, 7, 8, 8, 7, 8, 7, 7, 7, 8, 15, 9, 7, 8, 17, 7, 8, 10, 8, 8, 8, 8, 9, 9, 8, 9, 7, 8, 9, 14, 7, 8, 7, 8, 7, 9, 14, 14, 9, 7, 11, 10, 8, 8, 9, 7, 18, 7, 8, 10, 8, 8, 7, 9, 8, 7, 9, 9, 10, 10, 7, 10, 7, 10, 7, 8, 8, 7, 7, 10, 8, 13, 8, 8, 7, 7, 8, 8, 9, 8, 14, 8, 8, 8, 9, 10, 7, 8, 7, 8, 7, 7, 14, 7, 7, 7, 7, 9, 11, 7, 8, 10, 8, 7, 9, 8, 7, 8, 9, 7, 7, 7, 7, 7, 7, 7, 8, 7, 9, 7, 8, 7, 13, 7, 7, 11, 7, 8, 8, 8, 7, 7, 7, 9, 11, 8, 9, 7, 9, 18, 14, 7, 7, 7, 10, 9, 10, 7, 7, 21, 10, 8, 7, 7, 8, 7, 8, 8, 7, 10, 9, 8, 7, 8, 7, 7, 8, 9, 8, 7, 8, 18, 9, 8, 7, 7, 7, 7, 8, 9, 8, 7, 17, 7, 9, 8, 7, 7, 9, 7, 8, 7, 8, 8, 7, 8, 8, 7, 8, 7, 11, 8, 8, 7, 8, 7, 8, 19, 7, 17, 13, 7, 7, 8, 7, 7, 8, 8, 8, 7, 10, 18, 9, 8, 7, 9, 8, 8, 8, 8, 8, 8, 7, 9, 7, 11, 7, 8, 14, 8, 10, 7, 8, 8, 7, 7, 19, 7, 7, 7, 9, 8, 8, 15, 7, 16, 9, 8, 9, 13, 7, 7, 8, 7, 8, 8, 7, 7, 7, 8, 7, 7, 7, 7, 10, 9, 7, 8, 8, 7, 7, 7, 8, 7, 7, 8, 8, 8, 8, 7, 7, 7, 8, 7, 8, 8, 10, 8, 14, 8, 7, 7, 7, 7, 7, 7, 11, 7, 8, 7, 7, 9, 17, 10, 14, 7, 9, 9, 7, 7, 7, 11, 9, 9, 9, 8, 9, 7, 7, 7, 7]\n"
          ]
        }
      ],
      "source": [
        "distances_ss1_3 = get_distance(output_ss1_3)\n",
        "print(distances_ss1_3)"
      ]
    },
    {
      "cell_type": "code",
      "execution_count": null,
      "id": "mighty-blood",
      "metadata": {
        "id": "mighty-blood",
        "outputId": "99d53e6a-1055-4c6a-e31e-5ba81ba6069e"
      },
      "outputs": [
        {
          "data": {
            "text/plain": [
              "500"
            ]
          },
          "execution_count": 33,
          "metadata": {},
          "output_type": "execute_result"
        }
      ],
      "source": [
        "len(distances_ss1_3)"
      ]
    },
    {
      "cell_type": "code",
      "execution_count": null,
      "id": "known-injury",
      "metadata": {
        "id": "known-injury"
      },
      "outputs": [],
      "source": []
    },
    {
      "cell_type": "code",
      "execution_count": null,
      "id": "interior-texas",
      "metadata": {
        "id": "interior-texas"
      },
      "outputs": [],
      "source": [
        "output_ss1_4 = run(['RNAinverse','-R500'], input=ss1_4, capture_output=True, text=True)"
      ]
    },
    {
      "cell_type": "code",
      "execution_count": null,
      "id": "satisfied-victor",
      "metadata": {
        "id": "satisfied-victor",
        "outputId": "6df8416a-000e-46f6-9bb7-08a5b2a3b350"
      },
      "outputs": [
        {
          "name": "stdout",
          "output_type": "stream",
          "text": [
            "[15, 13, 9, 14, 16, 8, 8, 20, 13, 9, 15, 12, 11, 18, 16, 8, 10, 15, 14, 18, 13, 11, 11, 14, 16, 8, 16, 6, 7, 11, 7, 13, 6, 8, 16, 8, 12, 14, 8, 15, 9, 14, 7, 8, 12, 16, 8, 8, 13, 9, 15, 11, 9, 8, 17, 7, 14, 8, 7, 12, 17, 8, 10, 9, 7, 9, 7, 10, 14, 9, 9, 7, 14, 12, 13, 15, 18, 14, 13, 13, 13, 7, 17, 9, 8, 12, 7, 15, 12, 7, 19, 7, 8, 18, 7, 11, 15, 15, 13, 14, 13, 9, 9, 12, 15, 16, 17, 17, 14, 7, 7, 11, 9, 11, 11, 7, 9, 12, 12, 15, 9, 17, 14, 7, 19, 9, 18, 7, 15, 20, 8, 9, 7, 8, 13, 13, 9, 8, 19, 11, 9, 9, 11, 15, 15, 8, 10, 11, 18, 8, 15, 8, 9, 9, 11, 15, 18, 14, 14, 14, 7, 8, 8, 13, 14, 8, 14, 14, 9, 9, 9, 8, 8, 12, 17, 16, 9, 17, 16, 7, 11, 7, 7, 9, 11, 11, 9, 12, 16, 14, 8, 7, 7, 7, 8, 9, 17, 8, 15, 17, 7, 14, 12, 14, 15, 14, 8, 13, 7, 9, 7, 18, 9, 14, 9, 14, 16, 11, 13, 7, 19, 9, 13, 10, 14, 8, 16, 10, 14, 8, 9, 9, 7, 16, 9, 9, 17, 9, 20, 17, 7, 12, 10, 9, 13, 12, 9, 8, 8, 14, 14, 16, 14, 8, 17, 13, 12, 6, 12, 11, 13, 17, 20, 15, 9, 15, 9, 8, 8, 14, 9, 15, 14, 8, 12, 9, 8, 11, 12, 8, 8, 7, 16, 14, 16, 7, 18, 9, 8, 8, 8, 12, 17, 17, 8, 6, 9, 13, 14, 15, 16, 10, 9, 8, 13, 12, 15, 9, 18, 8, 7, 9, 16, 8, 12, 9, 13, 9, 8, 8, 14, 16, 8, 11, 13, 13, 9, 15, 11, 14, 8, 15, 7, 15, 14, 13, 8, 8, 17, 14, 8, 16, 16, 9, 10, 9, 12, 19, 9, 16, 12, 6, 9, 9, 8, 17, 11, 9, 9, 16, 8, 7, 15, 6, 9, 9, 14, 7, 8, 14, 9, 8, 8, 15, 9, 6, 15, 16, 9, 14, 8, 9, 9, 15, 13, 13, 14, 12, 13, 8, 8, 7, 8, 8, 10, 9, 10, 8, 7, 13, 17, 14, 12, 16, 12, 10, 10, 7, 9, 7, 21, 15, 11, 16, 18, 6, 10, 14, 9, 15, 15, 9, 16, 9, 12, 7, 17, 18, 9, 9, 15, 7, 10, 9, 9, 10, 13, 11, 15, 14, 10, 10, 15, 8, 9, 7, 9, 9, 14, 14, 8, 9, 8, 9, 15, 8, 16, 13, 7, 15, 7, 7, 14, 7, 9, 8, 15, 16, 16, 9, 20, 16, 7, 17, 7, 9, 8, 14, 8, 8, 7, 9, 17, 15, 6, 15, 7, 15, 7, 12, 7, 8, 13, 10, 17, 7, 13, 13, 13, 16]\n"
          ]
        }
      ],
      "source": [
        "distances_ss1_4 = get_distance(output_ss1_4)\n",
        "print(distances_ss1_4)"
      ]
    },
    {
      "cell_type": "code",
      "execution_count": null,
      "id": "heard-calvin",
      "metadata": {
        "id": "heard-calvin"
      },
      "outputs": [],
      "source": []
    },
    {
      "cell_type": "markdown",
      "id": "composite-contract",
      "metadata": {
        "id": "composite-contract"
      },
      "source": [
        "(c) [5pts] Discuter en quelques phrases des résultats obtenus. Pensez- vous que la jonction influence les résultats, si oui comment et si non pourquoi?"
      ]
    },
    {
      "cell_type": "code",
      "execution_count": null,
      "id": "greater-cincinnati",
      "metadata": {
        "id": "greater-cincinnati"
      },
      "outputs": [],
      "source": [
        "from scipy.stats import ttest_ind"
      ]
    },
    {
      "cell_type": "code",
      "execution_count": null,
      "id": "adult-bridal",
      "metadata": {
        "id": "adult-bridal"
      },
      "outputs": [],
      "source": [
        "def compare_2_groups(arr_1, arr_2,alpha):\n",
        "    stat, p = ttest_ind(arr_1, arr_2,equal_var = False)\n",
        "    #If equal_var False, perform Welch’s t-test, which does not assume equal population variance\n",
        "    print('Statistics=%.3f, p=%.3f' % (stat, p))\n",
        "    if p > alpha:\n",
        "        print('Same distributions (fail to reject H0)')\n",
        "    else:\n",
        "        print('Different distributions (reject H0)')"
      ]
    },
    {
      "cell_type": "code",
      "execution_count": null,
      "id": "furnished-topic",
      "metadata": {
        "id": "furnished-topic"
      },
      "outputs": [],
      "source": [
        "import matplotlib.pyplot as plt\n",
        "import numpy as np\n",
        "import pandas as pd\n",
        "import seaborn as sns"
      ]
    },
    {
      "cell_type": "code",
      "execution_count": null,
      "id": "reported-glasgow",
      "metadata": {
        "id": "reported-glasgow"
      },
      "outputs": [],
      "source": [
        "distances_ss0 = np.array(distances_ss0)\n",
        "distances_ss1_3 = np.array(distances_ss1_3)\n",
        "distances_ss1_4 = np.array(distances_ss1_4)"
      ]
    },
    {
      "cell_type": "code",
      "execution_count": null,
      "id": "cordless-fever",
      "metadata": {
        "id": "cordless-fever",
        "outputId": "b18846a1-4630-4e46-c66f-1a3bd3307a63"
      },
      "outputs": [
        {
          "data": {
            "image/png": "[encoded data removed]",
            "text/plain": [
              "<Figure size 432x288 with 1 Axes>"
            ]
          },
          "metadata": {
            "needs_background": "light"
          },
          "output_type": "display_data"
        }
      ],
      "source": [
        "plt.figure()\n",
        "\n",
        "ax1 = sns.histplot(distances_ss0,color='b',kde=True,label=\"ss0\",bins=20)\n",
        "ax2 = sns.histplot(distances_ss1_3,color='orange',kde=True,label=\"ss1_3\",bins=20)\n",
        "plt.axvline(np.mean(distances_ss0), color='b', linestyle='dashed', linewidth=2)\n",
        "plt.axvline(np.mean(distances_ss1_3), color='orange', linestyle='dashed', linewidth=2)\n",
        "\n",
        "\n",
        "plt.xlabel(\"distance\",fontsize = 10)\n",
        "plt.ylabel(\"compte\",fontsize=10)\n",
        "plt.title('La distribution des distances_ss0 & distances_ss1_3',fontsize=10)\n",
        "plt.yticks(fontsize=10)\n",
        "plt.xticks(fontsize=10)\n",
        "\n",
        "plt.legend()\n",
        "plt.savefig('La distribution des distances_ss0 & distances_ss1_3')\n",
        "plt.show()"
      ]
    },
    {
      "cell_type": "code",
      "execution_count": null,
      "id": "innocent-beatles",
      "metadata": {
        "id": "innocent-beatles"
      },
      "outputs": [],
      "source": [
        "from statistics import variance"
      ]
    },
    {
      "cell_type": "code",
      "execution_count": null,
      "id": "negative-swiss",
      "metadata": {
        "scrolled": true,
        "id": "negative-swiss",
        "outputId": "c2531af2-40d9-40f6-ce42-48e871e3c20f"
      },
      "outputs": [
        {
          "data": {
            "text/plain": [
              "3"
            ]
          },
          "execution_count": 42,
          "metadata": {},
          "output_type": "execute_result"
        }
      ],
      "source": [
        "variance(distances_ss0)"
      ]
    },
    {
      "cell_type": "code",
      "execution_count": null,
      "id": "crucial-parts",
      "metadata": {
        "id": "crucial-parts",
        "outputId": "48d89116-f8d0-4f55-d955-a4a4a08c46fd"
      },
      "outputs": [
        {
          "data": {
            "text/plain": [
              "6"
            ]
          },
          "execution_count": 43,
          "metadata": {},
          "output_type": "execute_result"
        }
      ],
      "source": [
        "variance(distances_ss1_3)"
      ]
    },
    {
      "cell_type": "code",
      "execution_count": null,
      "id": "economic-original",
      "metadata": {
        "id": "economic-original",
        "outputId": "bc7ab605-f2e3-4490-ae37-91bd47966d31"
      },
      "outputs": [
        {
          "data": {
            "text/plain": [
              "12"
            ]
          },
          "execution_count": 44,
          "metadata": {},
          "output_type": "execute_result"
        }
      ],
      "source": [
        "variance(distances_ss1_4)"
      ]
    },
    {
      "cell_type": "code",
      "execution_count": null,
      "id": "material-lotus",
      "metadata": {
        "id": "material-lotus",
        "outputId": "01e5daef-ce86-4f14-ff68-aee6b47193e2"
      },
      "outputs": [
        {
          "name": "stdout",
          "output_type": "stream",
          "text": [
            "Statistics=-29.254, p=0.000\n",
            "Different distributions (reject H0)\n"
          ]
        }
      ],
      "source": [
        "compare_2_groups(distances_ss0, distances_ss1_3,0.05)"
      ]
    },
    {
      "cell_type": "code",
      "execution_count": null,
      "id": "aggressive-humidity",
      "metadata": {
        "id": "aggressive-humidity"
      },
      "outputs": [],
      "source": []
    },
    {
      "cell_type": "code",
      "execution_count": null,
      "id": "operating-delight",
      "metadata": {
        "id": "operating-delight",
        "outputId": "a54ae46b-b2f1-4ff4-b7dc-52729907764d"
      },
      "outputs": [
        {
          "data": {
            "image/png": "[encoded data removed]",
            "text/plain": [
              "<Figure size 432x288 with 1 Axes>"
            ]
          },
          "metadata": {
            "needs_background": "light"
          },
          "output_type": "display_data"
        }
      ],
      "source": [
        "plt.figure()\n",
        "\n",
        "ax1 = sns.histplot(distances_ss0,color='b',kde=True,label=\"ss0\",bins =20)\n",
        "ax2 = sns.histplot(distances_ss1_4,color='orange',kde=True,label=\"ss1_4\",bins = 20)\n",
        "plt.axvline(np.mean(distances_ss0), color='b', linestyle='dashed', linewidth=2)\n",
        "plt.axvline(np.mean(distances_ss1_4), color='orange', linestyle='dashed', linewidth=2)\n",
        "\n",
        "\n",
        "plt.xlabel(\"distance\",fontsize = 10)\n",
        "plt.ylabel(\"compte\",fontsize=10)\n",
        "plt.title('La distribution des distances_ss0 & distances_ss1_4',fontsize=10)\n",
        "plt.yticks(fontsize=10)\n",
        "plt.xticks(fontsize=10)\n",
        "\n",
        "plt.legend()\n",
        "plt.savefig('La distribution des distances_ss0 & distances_ss1_4')\n",
        "plt.show()"
      ]
    },
    {
      "cell_type": "code",
      "execution_count": null,
      "id": "blond-duncan",
      "metadata": {
        "id": "blond-duncan",
        "outputId": "fa7bf2d1-aa72-4134-eb79-301974cd12fd"
      },
      "outputs": [
        {
          "name": "stdout",
          "output_type": "stream",
          "text": [
            "Statistics=-38.561, p=0.000\n",
            "Different distributions (reject H0)\n"
          ]
        }
      ],
      "source": [
        "compare_2_groups(distances_ss0, distances_ss1_4,0.05)"
      ]
    },
    {
      "cell_type": "code",
      "execution_count": null,
      "id": "random-freedom",
      "metadata": {
        "id": "random-freedom"
      },
      "outputs": [],
      "source": []
    },
    {
      "cell_type": "code",
      "execution_count": null,
      "id": "failing-accident",
      "metadata": {
        "id": "failing-accident",
        "outputId": "bd325ae8-49ea-48b6-9929-fe098cfcf8bf"
      },
      "outputs": [
        {
          "data": {
            "image/png": "[encoded data removed]",
            "text/plain": [
              "<Figure size 432x288 with 1 Axes>"
            ]
          },
          "metadata": {
            "needs_background": "light"
          },
          "output_type": "display_data"
        }
      ],
      "source": [
        "plt.figure()\n",
        "\n",
        "ax1 = sns.histplot(distances_ss1_3,color='b',kde=True,label=\"ss1_3\", bins=20)\n",
        "ax2 = sns.histplot(distances_ss1_4,color='orange',kde=True,label=\"ss1_4\", bins=20)\n",
        "plt.axvline(np.mean(distances_ss1_3), color='b', linestyle='dashed', linewidth=2)\n",
        "plt.axvline(np.mean(distances_ss1_4), color='orange', linestyle='dashed', linewidth=2)\n",
        "\n",
        "\n",
        "plt.xlabel(\"distance\",fontsize = 10)\n",
        "plt.ylabel(\"compte\",fontsize=10)\n",
        "plt.title('La distribution des distances_ss1_3 & distances_ss1_4',fontsize=10)\n",
        "plt.yticks(fontsize=10)\n",
        "plt.xticks(fontsize=10)\n",
        "\n",
        "plt.legend()\n",
        "plt.savefig('La distribution des distances_ss1_3 & distances_ss1_4')\n",
        "plt.show()"
      ]
    },
    {
      "cell_type": "code",
      "execution_count": null,
      "id": "orange-arrival",
      "metadata": {
        "id": "orange-arrival",
        "outputId": "1311a19e-aa13-411f-827f-acc6c6057e3e"
      },
      "outputs": [
        {
          "name": "stdout",
          "output_type": "stream",
          "text": [
            "Statistics=-14.839, p=0.000\n",
            "Different distributions (reject H0)\n"
          ]
        }
      ],
      "source": [
        "compare_2_groups(distances_ss1_3, distances_ss1_4,0.05)"
      ]
    },
    {
      "cell_type": "code",
      "execution_count": null,
      "id": "younger-reconstruction",
      "metadata": {
        "id": "younger-reconstruction"
      },
      "outputs": [],
      "source": []
    },
    {
      "cell_type": "code",
      "execution_count": null,
      "id": "virgin-pepper",
      "metadata": {
        "id": "virgin-pepper"
      },
      "outputs": [],
      "source": []
    }
  ],
  "metadata": {
    "kernelspec": {
      "display_name": "Python 3",
      "language": "python",
      "name": "python3"
    },
    "language_info": {
      "codemirror_mode": {
        "name": "ipython",
        "version": 3
      },
      "file_extension": ".py",
      "mimetype": "text/x-python",
      "name": "python",
      "nbconvert_exporter": "python",
      "pygments_lexer": "ipython3",
      "version": "3.9.2"
    },
    "colab": {
      "provenance": []
    }
  },
  "nbformat": 4,
  "nbformat_minor": 5
}